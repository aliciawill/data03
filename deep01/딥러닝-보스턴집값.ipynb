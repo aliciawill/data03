{
 "cells": [
  {
   "cell_type": "code",
   "execution_count": 1,
   "id": "b0c18fb3",
   "metadata": {},
   "outputs": [
    {
     "name": "stdout",
     "output_type": "stream",
     "text": [
      "2.7.0\n"
     ]
    }
   ],
   "source": [
    "import pandas as pd\n",
    "import numpy as np\n",
    "import random\n",
    "import tensorflow as tf\n",
    "print(tf.__version__)"
   ]
  },
  {
   "cell_type": "code",
   "execution_count": 2,
   "id": "ddc083f6",
   "metadata": {},
   "outputs": [],
   "source": [
    "from sklearn import datasets"
   ]
  },
  {
   "cell_type": "code",
   "execution_count": 3,
   "id": "d550eba7",
   "metadata": {},
   "outputs": [],
   "source": [
    "housing = datasets.load_boston()"
   ]
  },
  {
   "cell_type": "code",
   "execution_count": 4,
   "id": "59ee944e",
   "metadata": {},
   "outputs": [
    {
     "data": {
      "text/plain": [
       "array([[6.3200e-03, 1.8000e+01, 2.3100e+00, ..., 1.5300e+01, 3.9690e+02,\n",
       "        4.9800e+00],\n",
       "       [2.7310e-02, 0.0000e+00, 7.0700e+00, ..., 1.7800e+01, 3.9690e+02,\n",
       "        9.1400e+00],\n",
       "       [2.7290e-02, 0.0000e+00, 7.0700e+00, ..., 1.7800e+01, 3.9283e+02,\n",
       "        4.0300e+00],\n",
       "       ...,\n",
       "       [6.0760e-02, 0.0000e+00, 1.1930e+01, ..., 2.1000e+01, 3.9690e+02,\n",
       "        5.6400e+00],\n",
       "       [1.0959e-01, 0.0000e+00, 1.1930e+01, ..., 2.1000e+01, 3.9345e+02,\n",
       "        6.4800e+00],\n",
       "       [4.7410e-02, 0.0000e+00, 1.1930e+01, ..., 2.1000e+01, 3.9690e+02,\n",
       "        7.8800e+00]])"
      ]
     },
     "execution_count": 4,
     "metadata": {},
     "output_type": "execute_result"
    }
   ],
   "source": [
    "X_data = housing.data\n",
    "X_data"
   ]
  },
  {
   "cell_type": "code",
   "execution_count": 5,
   "id": "44272a25",
   "metadata": {},
   "outputs": [
    {
     "data": {
      "text/plain": [
       "array([24. , 21.6, 34.7, 33.4, 36.2, 28.7, 22.9, 27.1, 16.5, 18.9, 15. ,\n",
       "       18.9, 21.7, 20.4, 18.2, 19.9, 23.1, 17.5, 20.2, 18.2, 13.6, 19.6,\n",
       "       15.2, 14.5, 15.6, 13.9, 16.6, 14.8, 18.4, 21. , 12.7, 14.5, 13.2,\n",
       "       13.1, 13.5, 18.9, 20. , 21. , 24.7, 30.8, 34.9, 26.6, 25.3, 24.7,\n",
       "       21.2, 19.3, 20. , 16.6, 14.4, 19.4, 19.7, 20.5, 25. , 23.4, 18.9,\n",
       "       35.4, 24.7, 31.6, 23.3, 19.6, 18.7, 16. , 22.2, 25. , 33. , 23.5,\n",
       "       19.4, 22. , 17.4, 20.9, 24.2, 21.7, 22.8, 23.4, 24.1, 21.4, 20. ,\n",
       "       20.8, 21.2, 20.3, 28. , 23.9, 24.8, 22.9, 23.9, 26.6, 22.5, 22.2,\n",
       "       23.6, 28.7, 22.6, 22. , 22.9, 25. , 20.6, 28.4, 21.4, 38.7, 43.8,\n",
       "       33.2, 27.5, 26.5, 18.6, 19.3, 20.1, 19.5, 19.5, 20.4, 19.8, 19.4,\n",
       "       21.7, 22.8, 18.8, 18.7, 18.5, 18.3, 21.2, 19.2, 20.4, 19.3, 22. ,\n",
       "       20.3, 20.5, 17.3, 18.8, 21.4, 15.7, 16.2, 18. , 14.3, 19.2, 19.6,\n",
       "       23. , 18.4, 15.6, 18.1, 17.4, 17.1, 13.3, 17.8, 14. , 14.4, 13.4,\n",
       "       15.6, 11.8, 13.8, 15.6, 14.6, 17.8, 15.4, 21.5, 19.6, 15.3, 19.4,\n",
       "       17. , 15.6, 13.1, 41.3, 24.3, 23.3, 27. , 50. , 50. , 50. , 22.7,\n",
       "       25. , 50. , 23.8, 23.8, 22.3, 17.4, 19.1, 23.1, 23.6, 22.6, 29.4,\n",
       "       23.2, 24.6, 29.9, 37.2, 39.8, 36.2, 37.9, 32.5, 26.4, 29.6, 50. ,\n",
       "       32. , 29.8, 34.9, 37. , 30.5, 36.4, 31.1, 29.1, 50. , 33.3, 30.3,\n",
       "       34.6, 34.9, 32.9, 24.1, 42.3, 48.5, 50. , 22.6, 24.4, 22.5, 24.4,\n",
       "       20. , 21.7, 19.3, 22.4, 28.1, 23.7, 25. , 23.3, 28.7, 21.5, 23. ,\n",
       "       26.7, 21.7, 27.5, 30.1, 44.8, 50. , 37.6, 31.6, 46.7, 31.5, 24.3,\n",
       "       31.7, 41.7, 48.3, 29. , 24. , 25.1, 31.5, 23.7, 23.3, 22. , 20.1,\n",
       "       22.2, 23.7, 17.6, 18.5, 24.3, 20.5, 24.5, 26.2, 24.4, 24.8, 29.6,\n",
       "       42.8, 21.9, 20.9, 44. , 50. , 36. , 30.1, 33.8, 43.1, 48.8, 31. ,\n",
       "       36.5, 22.8, 30.7, 50. , 43.5, 20.7, 21.1, 25.2, 24.4, 35.2, 32.4,\n",
       "       32. , 33.2, 33.1, 29.1, 35.1, 45.4, 35.4, 46. , 50. , 32.2, 22. ,\n",
       "       20.1, 23.2, 22.3, 24.8, 28.5, 37.3, 27.9, 23.9, 21.7, 28.6, 27.1,\n",
       "       20.3, 22.5, 29. , 24.8, 22. , 26.4, 33.1, 36.1, 28.4, 33.4, 28.2,\n",
       "       22.8, 20.3, 16.1, 22.1, 19.4, 21.6, 23.8, 16.2, 17.8, 19.8, 23.1,\n",
       "       21. , 23.8, 23.1, 20.4, 18.5, 25. , 24.6, 23. , 22.2, 19.3, 22.6,\n",
       "       19.8, 17.1, 19.4, 22.2, 20.7, 21.1, 19.5, 18.5, 20.6, 19. , 18.7,\n",
       "       32.7, 16.5, 23.9, 31.2, 17.5, 17.2, 23.1, 24.5, 26.6, 22.9, 24.1,\n",
       "       18.6, 30.1, 18.2, 20.6, 17.8, 21.7, 22.7, 22.6, 25. , 19.9, 20.8,\n",
       "       16.8, 21.9, 27.5, 21.9, 23.1, 50. , 50. , 50. , 50. , 50. , 13.8,\n",
       "       13.8, 15. , 13.9, 13.3, 13.1, 10.2, 10.4, 10.9, 11.3, 12.3,  8.8,\n",
       "        7.2, 10.5,  7.4, 10.2, 11.5, 15.1, 23.2,  9.7, 13.8, 12.7, 13.1,\n",
       "       12.5,  8.5,  5. ,  6.3,  5.6,  7.2, 12.1,  8.3,  8.5,  5. , 11.9,\n",
       "       27.9, 17.2, 27.5, 15. , 17.2, 17.9, 16.3,  7. ,  7.2,  7.5, 10.4,\n",
       "        8.8,  8.4, 16.7, 14.2, 20.8, 13.4, 11.7,  8.3, 10.2, 10.9, 11. ,\n",
       "        9.5, 14.5, 14.1, 16.1, 14.3, 11.7, 13.4,  9.6,  8.7,  8.4, 12.8,\n",
       "       10.5, 17.1, 18.4, 15.4, 10.8, 11.8, 14.9, 12.6, 14.1, 13. , 13.4,\n",
       "       15.2, 16.1, 17.8, 14.9, 14.1, 12.7, 13.5, 14.9, 20. , 16.4, 17.7,\n",
       "       19.5, 20.2, 21.4, 19.9, 19. , 19.1, 19.1, 20.1, 19.9, 19.6, 23.2,\n",
       "       29.8, 13.8, 13.3, 16.7, 12. , 14.6, 21.4, 23. , 23.7, 25. , 21.8,\n",
       "       20.6, 21.2, 19.1, 20.6, 15.2,  7. ,  8.1, 13.6, 20.1, 21.8, 24.5,\n",
       "       23.1, 19.7, 18.3, 21.2, 17.5, 16.8, 22.4, 20.6, 23.9, 22. , 11.9])"
      ]
     },
     "execution_count": 5,
     "metadata": {},
     "output_type": "execute_result"
    }
   ],
   "source": [
    "y_data = housing.target\n",
    "y_data"
   ]
  },
  {
   "cell_type": "code",
   "execution_count": 6,
   "id": "2dd0d44a",
   "metadata": {},
   "outputs": [
    {
     "name": "stdout",
     "output_type": "stream",
     "text": [
      "(506, 13) (506,)\n"
     ]
    }
   ],
   "source": [
    "print(X_data.shape, y_data.shape)"
   ]
  },
  {
   "cell_type": "code",
   "execution_count": 7,
   "id": "e28412ce",
   "metadata": {},
   "outputs": [
    {
     "data": {
      "text/plain": [
       "array(['CRIM', 'ZN', 'INDUS', 'CHAS', 'NOX', 'RM', 'AGE', 'DIS', 'RAD',\n",
       "       'TAX', 'PTRATIO', 'B', 'LSTAT'], dtype='<U7')"
      ]
     },
     "execution_count": 7,
     "metadata": {},
     "output_type": "execute_result"
    }
   ],
   "source": [
    "housing.feature_names"
   ]
  },
  {
   "cell_type": "code",
   "execution_count": 8,
   "id": "7ef7186d",
   "metadata": {},
   "outputs": [],
   "source": [
    "from sklearn.model_selection import train_test_split"
   ]
  },
  {
   "cell_type": "code",
   "execution_count": 9,
   "id": "249d152e",
   "metadata": {},
   "outputs": [
    {
     "data": {
      "text/plain": [
       "array([[0.00000000e+00, 1.80000000e-01, 6.78152493e-02, ...,\n",
       "        2.87234043e-01, 1.00000000e+00, 8.96799117e-02],\n",
       "       [2.35922539e-04, 0.00000000e+00, 2.42302053e-01, ...,\n",
       "        5.53191489e-01, 1.00000000e+00, 2.04470199e-01],\n",
       "       [2.35697744e-04, 0.00000000e+00, 2.42302053e-01, ...,\n",
       "        5.53191489e-01, 9.89737254e-01, 6.34657837e-02],\n",
       "       ...,\n",
       "       [6.11892474e-04, 0.00000000e+00, 4.20454545e-01, ...,\n",
       "        8.93617021e-01, 1.00000000e+00, 1.07891832e-01],\n",
       "       [1.16072990e-03, 0.00000000e+00, 4.20454545e-01, ...,\n",
       "        8.93617021e-01, 9.91300620e-01, 1.31070640e-01],\n",
       "       [4.61841693e-04, 0.00000000e+00, 4.20454545e-01, ...,\n",
       "        8.93617021e-01, 1.00000000e+00, 1.69701987e-01]])"
      ]
     },
     "execution_count": 9,
     "metadata": {},
     "output_type": "execute_result"
    }
   ],
   "source": [
    "from sklearn.preprocessing import MinMaxScaler\n",
    "scaler = MinMaxScaler()\n",
    "X_data_scaled = scaler.fit_transform(X_data)\n",
    "X_data_scaled"
   ]
  },
  {
   "cell_type": "code",
   "execution_count": 10,
   "id": "57e447ad",
   "metadata": {},
   "outputs": [
    {
     "name": "stdout",
     "output_type": "stream",
     "text": [
      "(455, 13) (455,)\n",
      "(51, 13) (51,)\n"
     ]
    }
   ],
   "source": [
    "X_train, X_test, y_train, y_test = train_test_split(X_data_scaled, y_data, \n",
    "                                                    test_size=0.1, \n",
    "                                                    shuffle=True, \n",
    "                                                    random_state=11)\n",
    "print(X_train.shape, y_train.shape)\n",
    "print(X_test.shape, y_test.shape)"
   ]
  },
  {
   "cell_type": "code",
   "execution_count": 11,
   "id": "7225591e",
   "metadata": {},
   "outputs": [],
   "source": [
    "# Layer를 순서대로 쌓아줄 객체 필요 Sequantial\n",
    "# 각 Layer는 Dense객체\n",
    "# 심층 신경망\n",
    "from tensorflow.keras import Sequential\n",
    "from tensorflow.keras.layers import Dense"
   ]
  },
  {
   "cell_type": "code",
   "execution_count": 12,
   "id": "a7159268",
   "metadata": {},
   "outputs": [
    {
     "name": "stdout",
     "output_type": "stream",
     "text": [
      "Model: \"sequential\"\n",
      "_________________________________________________________________\n",
      " Layer (type)                Output Shape              Param #   \n",
      "=================================================================\n",
      " dense (Dense)               (None, 128)               1792      \n",
      "                                                                 \n",
      " dense_1 (Dense)             (None, 64)                8256      \n",
      "                                                                 \n",
      " dense_2 (Dense)             (None, 32)                2080      \n",
      "                                                                 \n",
      " dense_3 (Dense)             (None, 16)                528       \n",
      "                                                                 \n",
      " dense_4 (Dense)             (None, 1)                 17        \n",
      "                                                                 \n",
      "=================================================================\n",
      "Total params: 12,673\n",
      "Trainable params: 12,673\n",
      "Non-trainable params: 0\n",
      "_________________________________________________________________\n"
     ]
    }
   ],
   "source": [
    "# 심층 신경망\n",
    "from tensorflow.keras import Sequential\n",
    "from tensorflow.keras.layers import Dense\n",
    "def build_model(num_input=1):\n",
    "    model = Sequential()\n",
    "    model.add(Dense(128, activation='relu', input_dim=num_input))\n",
    "    model.add(Dense(64, activation='relu'))\n",
    "    model.add(Dense(32, activation='relu'))\n",
    "    model.add(Dense(16, activation='relu'))\n",
    "    model.add(Dense(1, activation='linear'))\n",
    "\n",
    "    model.compile(optimizer='adam', loss='mse', metrics=['mae'])\n",
    "\n",
    "    return model\n",
    "\n",
    "model = build_model(num_input=13)\n",
    "model.summary()"
   ]
  },
  {
   "cell_type": "code",
   "execution_count": 13,
   "id": "8f2b5e26",
   "metadata": {},
   "outputs": [],
   "source": [
    "#model.compile(optimizer='adam', loss='mse', metrics=['mae']) #각 설정"
   ]
  },
  {
   "cell_type": "code",
   "execution_count": 14,
   "id": "b23f6a5b",
   "metadata": {},
   "outputs": [],
   "source": [
    "#model.summary()"
   ]
  },
  {
   "cell_type": "code",
   "execution_count": 15,
   "id": "ce7841dc",
   "metadata": {},
   "outputs": [
    {
     "name": "stdout",
     "output_type": "stream",
     "text": [
      "Epoch 1/100\n",
      "15/15 - 0s - loss: 589.7713 - mae: 22.4483 - 375ms/epoch - 25ms/step\n",
      "Epoch 2/100\n",
      "15/15 - 0s - loss: 523.3520 - mae: 20.8566 - 12ms/epoch - 800us/step\n",
      "Epoch 3/100\n",
      "15/15 - 0s - loss: 356.9438 - mae: 16.1497 - 15ms/epoch - 1ms/step\n",
      "Epoch 4/100\n",
      "15/15 - 0s - loss: 156.0484 - mae: 9.8314 - 21ms/epoch - 1ms/step\n",
      "Epoch 5/100\n",
      "15/15 - 0s - loss: 128.3985 - mae: 8.6983 - 17ms/epoch - 1ms/step\n",
      "Epoch 6/100\n",
      "15/15 - 0s - loss: 94.2331 - mae: 7.2253 - 23ms/epoch - 2ms/step\n",
      "Epoch 7/100\n",
      "15/15 - 0s - loss: 76.9636 - mae: 6.6038 - 14ms/epoch - 933us/step\n",
      "Epoch 8/100\n",
      "15/15 - 0s - loss: 64.8270 - mae: 5.7491 - 25ms/epoch - 2ms/step\n",
      "Epoch 9/100\n",
      "15/15 - 0s - loss: 56.9704 - mae: 5.6013 - 16ms/epoch - 1ms/step\n",
      "Epoch 10/100\n",
      "15/15 - 0s - loss: 52.0407 - mae: 5.0203 - 28ms/epoch - 2ms/step\n",
      "Epoch 11/100\n",
      "15/15 - 0s - loss: 48.2772 - mae: 4.9653 - 23ms/epoch - 2ms/step\n",
      "Epoch 12/100\n",
      "15/15 - 0s - loss: 45.0857 - mae: 4.6214 - 16ms/epoch - 1ms/step\n",
      "Epoch 13/100\n",
      "15/15 - 0s - loss: 42.6247 - mae: 4.7749 - 25ms/epoch - 2ms/step\n",
      "Epoch 14/100\n",
      "15/15 - 0s - loss: 39.4306 - mae: 4.3261 - 13ms/epoch - 866us/step\n",
      "Epoch 15/100\n",
      "15/15 - 0s - loss: 36.7729 - mae: 4.1891 - 25ms/epoch - 2ms/step\n",
      "Epoch 16/100\n",
      "15/15 - 0s - loss: 35.0817 - mae: 4.3547 - 14ms/epoch - 901us/step\n",
      "Epoch 17/100\n",
      "15/15 - 0s - loss: 32.1973 - mae: 3.8251 - 23ms/epoch - 2ms/step\n",
      "Epoch 18/100\n",
      "15/15 - 0s - loss: 30.9016 - mae: 4.0546 - 14ms/epoch - 933us/step\n",
      "Epoch 19/100\n",
      "15/15 - 0s - loss: 27.4730 - mae: 3.6276 - 23ms/epoch - 2ms/step\n",
      "Epoch 20/100\n",
      "15/15 - 0s - loss: 25.7778 - mae: 3.4876 - 21ms/epoch - 1ms/step\n",
      "Epoch 21/100\n",
      "15/15 - 0s - loss: 24.8465 - mae: 3.4187 - 25ms/epoch - 2ms/step\n",
      "Epoch 22/100\n",
      "15/15 - 0s - loss: 23.0203 - mae: 3.3277 - 20ms/epoch - 1ms/step\n",
      "Epoch 23/100\n",
      "15/15 - 0s - loss: 22.0127 - mae: 3.1928 - 20ms/epoch - 1ms/step\n",
      "Epoch 24/100\n",
      "15/15 - 0s - loss: 21.2586 - mae: 3.1230 - 27ms/epoch - 2ms/step\n",
      "Epoch 25/100\n",
      "15/15 - 0s - loss: 20.7242 - mae: 3.1445 - 24ms/epoch - 2ms/step\n",
      "Epoch 26/100\n",
      "15/15 - 0s - loss: 21.2383 - mae: 3.2230 - 18ms/epoch - 1ms/step\n",
      "Epoch 27/100\n",
      "15/15 - 0s - loss: 19.6666 - mae: 3.0204 - 26ms/epoch - 2ms/step\n",
      "Epoch 28/100\n",
      "15/15 - 0s - loss: 19.2201 - mae: 3.0071 - 22ms/epoch - 1ms/step\n",
      "Epoch 29/100\n",
      "15/15 - 0s - loss: 19.1912 - mae: 3.0063 - 20ms/epoch - 1ms/step\n",
      "Epoch 30/100\n",
      "15/15 - 0s - loss: 18.8351 - mae: 2.9834 - 30ms/epoch - 2ms/step\n",
      "Epoch 31/100\n",
      "15/15 - 0s - loss: 18.7512 - mae: 2.9373 - 18ms/epoch - 1ms/step\n",
      "Epoch 32/100\n",
      "15/15 - 0s - loss: 17.7659 - mae: 2.8811 - 27ms/epoch - 2ms/step\n",
      "Epoch 33/100\n",
      "15/15 - 0s - loss: 18.3528 - mae: 2.9395 - 22ms/epoch - 1ms/step\n",
      "Epoch 34/100\n",
      "15/15 - 0s - loss: 19.2096 - mae: 3.1358 - 18ms/epoch - 1ms/step\n",
      "Epoch 35/100\n",
      "15/15 - 0s - loss: 17.5997 - mae: 2.9050 - 23ms/epoch - 2ms/step\n",
      "Epoch 36/100\n",
      "15/15 - 0s - loss: 16.9321 - mae: 2.7910 - 21ms/epoch - 1ms/step\n",
      "Epoch 37/100\n",
      "15/15 - 0s - loss: 17.3479 - mae: 2.9149 - 19ms/epoch - 1ms/step\n",
      "Epoch 38/100\n",
      "15/15 - 0s - loss: 16.7447 - mae: 2.7477 - 26ms/epoch - 2ms/step\n",
      "Epoch 39/100\n",
      "15/15 - 0s - loss: 16.3761 - mae: 2.7407 - 22ms/epoch - 1ms/step\n",
      "Epoch 40/100\n",
      "15/15 - 0s - loss: 16.2624 - mae: 2.7573 - 23ms/epoch - 2ms/step\n",
      "Epoch 41/100\n",
      "15/15 - 0s - loss: 16.6236 - mae: 2.8182 - 24ms/epoch - 2ms/step\n",
      "Epoch 42/100\n",
      "15/15 - 0s - loss: 15.7750 - mae: 2.7163 - 19ms/epoch - 1ms/step\n",
      "Epoch 43/100\n",
      "15/15 - 0s - loss: 15.1770 - mae: 2.6559 - 18ms/epoch - 1ms/step\n",
      "Epoch 44/100\n",
      "15/15 - 0s - loss: 15.8353 - mae: 2.6776 - 15ms/epoch - 1ms/step\n",
      "Epoch 45/100\n",
      "15/15 - 0s - loss: 15.2704 - mae: 2.7102 - 23ms/epoch - 2ms/step\n",
      "Epoch 46/100\n",
      "15/15 - 0s - loss: 15.4585 - mae: 2.7741 - 14ms/epoch - 934us/step\n",
      "Epoch 47/100\n",
      "15/15 - 0s - loss: 14.9598 - mae: 2.6298 - 22ms/epoch - 1ms/step\n",
      "Epoch 48/100\n",
      "15/15 - 0s - loss: 14.7861 - mae: 2.6967 - 14ms/epoch - 933us/step\n",
      "Epoch 49/100\n",
      "15/15 - 0s - loss: 14.7232 - mae: 2.6792 - 23ms/epoch - 2ms/step\n",
      "Epoch 50/100\n",
      "15/15 - 0s - loss: 14.5075 - mae: 2.6540 - 18ms/epoch - 1ms/step\n",
      "Epoch 51/100\n",
      "15/15 - 0s - loss: 13.8891 - mae: 2.5374 - 18ms/epoch - 1ms/step\n",
      "Epoch 52/100\n",
      "15/15 - 0s - loss: 13.7527 - mae: 2.5765 - 19ms/epoch - 1ms/step\n",
      "Epoch 53/100\n",
      "15/15 - 0s - loss: 13.5671 - mae: 2.5227 - 22ms/epoch - 1ms/step\n",
      "Epoch 54/100\n",
      "15/15 - 0s - loss: 14.0864 - mae: 2.6090 - 19ms/epoch - 1ms/step\n",
      "Epoch 55/100\n",
      "15/15 - 0s - loss: 13.7032 - mae: 2.5845 - 18ms/epoch - 1ms/step\n",
      "Epoch 56/100\n",
      "15/15 - 0s - loss: 12.8067 - mae: 2.4809 - 19ms/epoch - 1ms/step\n",
      "Epoch 57/100\n",
      "15/15 - 0s - loss: 13.0361 - mae: 2.4830 - 18ms/epoch - 1ms/step\n",
      "Epoch 58/100\n",
      "15/15 - 0s - loss: 13.2846 - mae: 2.5713 - 20ms/epoch - 1ms/step\n",
      "Epoch 59/100\n",
      "15/15 - 0s - loss: 14.6149 - mae: 2.6890 - 18ms/epoch - 1ms/step\n",
      "Epoch 60/100\n",
      "15/15 - 0s - loss: 12.9407 - mae: 2.4793 - 20ms/epoch - 1ms/step\n",
      "Epoch 61/100\n",
      "15/15 - 0s - loss: 12.6078 - mae: 2.4244 - 20ms/epoch - 1ms/step\n",
      "Epoch 62/100\n",
      "15/15 - 0s - loss: 12.0618 - mae: 2.4451 - 17ms/epoch - 1ms/step\n",
      "Epoch 63/100\n",
      "15/15 - 0s - loss: 11.8031 - mae: 2.4375 - 18ms/epoch - 1ms/step\n",
      "Epoch 64/100\n",
      "15/15 - 0s - loss: 11.5160 - mae: 2.3642 - 27ms/epoch - 2ms/step\n",
      "Epoch 65/100\n",
      "15/15 - 0s - loss: 11.1580 - mae: 2.3433 - 15ms/epoch - 979us/step\n",
      "Epoch 66/100\n",
      "15/15 - 0s - loss: 11.2157 - mae: 2.3135 - 20ms/epoch - 1ms/step\n",
      "Epoch 67/100\n",
      "15/15 - 0s - loss: 11.6888 - mae: 2.4414 - 20ms/epoch - 1ms/step\n",
      "Epoch 68/100\n",
      "15/15 - 0s - loss: 11.2302 - mae: 2.4189 - 19ms/epoch - 1ms/step\n",
      "Epoch 69/100\n",
      "15/15 - 0s - loss: 11.0006 - mae: 2.3216 - 16ms/epoch - 1ms/step\n",
      "Epoch 70/100\n",
      "15/15 - 0s - loss: 10.7845 - mae: 2.3557 - 21ms/epoch - 1ms/step\n",
      "Epoch 71/100\n",
      "15/15 - 0s - loss: 10.4411 - mae: 2.2653 - 19ms/epoch - 1ms/step\n",
      "Epoch 72/100\n",
      "15/15 - 0s - loss: 10.2762 - mae: 2.2854 - 21ms/epoch - 1ms/step\n",
      "Epoch 73/100\n",
      "15/15 - 0s - loss: 10.2016 - mae: 2.2455 - 16ms/epoch - 1ms/step\n",
      "Epoch 74/100\n",
      "15/15 - 0s - loss: 10.3329 - mae: 2.2791 - 21ms/epoch - 1ms/step\n",
      "Epoch 75/100\n",
      "15/15 - 0s - loss: 9.8035 - mae: 2.1998 - 17ms/epoch - 1ms/step\n",
      "Epoch 76/100\n",
      "15/15 - 0s - loss: 9.5343 - mae: 2.2274 - 18ms/epoch - 1ms/step\n",
      "Epoch 77/100\n",
      "15/15 - 0s - loss: 9.6428 - mae: 2.2192 - 18ms/epoch - 1ms/step\n",
      "Epoch 78/100\n",
      "15/15 - 0s - loss: 9.4538 - mae: 2.1999 - 25ms/epoch - 2ms/step\n",
      "Epoch 79/100\n",
      "15/15 - 0s - loss: 9.4292 - mae: 2.1763 - 40ms/epoch - 3ms/step\n",
      "Epoch 80/100\n",
      "15/15 - 0s - loss: 9.9573 - mae: 2.2374 - 46ms/epoch - 3ms/step\n",
      "Epoch 81/100\n",
      "15/15 - 0s - loss: 9.0815 - mae: 2.1386 - 35ms/epoch - 2ms/step\n",
      "Epoch 82/100\n",
      "15/15 - 0s - loss: 9.8750 - mae: 2.2293 - 41ms/epoch - 3ms/step\n",
      "Epoch 83/100\n",
      "15/15 - 0s - loss: 9.5556 - mae: 2.2076 - 30ms/epoch - 2ms/step\n",
      "Epoch 84/100\n",
      "15/15 - 0s - loss: 9.3653 - mae: 2.1846 - 25ms/epoch - 2ms/step\n",
      "Epoch 85/100\n",
      "15/15 - 0s - loss: 9.4640 - mae: 2.1701 - 23ms/epoch - 2ms/step\n",
      "Epoch 86/100\n",
      "15/15 - 0s - loss: 10.0662 - mae: 2.3078 - 18ms/epoch - 1ms/step\n",
      "Epoch 87/100\n",
      "15/15 - 0s - loss: 9.6210 - mae: 2.1962 - 22ms/epoch - 1ms/step\n",
      "Epoch 88/100\n",
      "15/15 - 0s - loss: 9.0174 - mae: 2.1292 - 44ms/epoch - 3ms/step\n",
      "Epoch 89/100\n",
      "15/15 - 0s - loss: 8.6202 - mae: 2.1158 - 42ms/epoch - 3ms/step\n",
      "Epoch 90/100\n",
      "15/15 - 0s - loss: 8.3882 - mae: 2.0820 - 36ms/epoch - 2ms/step\n",
      "Epoch 91/100\n",
      "15/15 - 0s - loss: 8.4161 - mae: 2.0840 - 39ms/epoch - 3ms/step\n",
      "Epoch 92/100\n",
      "15/15 - 0s - loss: 8.4518 - mae: 2.1336 - 30ms/epoch - 2ms/step\n",
      "Epoch 93/100\n",
      "15/15 - 0s - loss: 8.4486 - mae: 2.0706 - 25ms/epoch - 2ms/step\n",
      "Epoch 94/100\n",
      "15/15 - 0s - loss: 8.5443 - mae: 2.0922 - 23ms/epoch - 2ms/step\n",
      "Epoch 95/100\n",
      "15/15 - 0s - loss: 9.3218 - mae: 2.2058 - 20ms/epoch - 1ms/step\n",
      "Epoch 96/100\n",
      "15/15 - 0s - loss: 9.0008 - mae: 2.1573 - 19ms/epoch - 1ms/step\n",
      "Epoch 97/100\n",
      "15/15 - 0s - loss: 8.1337 - mae: 2.0590 - 21ms/epoch - 1ms/step\n",
      "Epoch 98/100\n",
      "15/15 - 0s - loss: 7.9345 - mae: 2.0263 - 22ms/epoch - 1ms/step\n",
      "Epoch 99/100\n",
      "15/15 - 0s - loss: 7.8144 - mae: 2.0459 - 17ms/epoch - 1ms/step\n",
      "Epoch 100/100\n",
      "15/15 - 0s - loss: 7.9836 - mae: 2.0753 - 14ms/epoch - 933us/step\n"
     ]
    },
    {
     "data": {
      "text/plain": [
       "<keras.callbacks.History at 0x1ff3c0e4e50>"
      ]
     },
     "execution_count": 15,
     "metadata": {},
     "output_type": "execute_result"
    }
   ],
   "source": [
    "# 모델 훈련\n",
    "history = model.fit(X_train, y_train, epochs=100, batch_size=32, verbose=2)\n",
    "history"
   ]
  },
  {
   "cell_type": "code",
   "execution_count": 16,
   "id": "2e4450b5",
   "metadata": {},
   "outputs": [
    {
     "name": "stdout",
     "output_type": "stream",
     "text": [
      "2/2 [==============================] - 0s 2ms/step - loss: 8.0441 - mae: 2.1095\n"
     ]
    },
    {
     "data": {
      "text/plain": [
       "[8.04406452178955, 2.109536647796631]"
      ]
     },
     "execution_count": 16,
     "metadata": {},
     "output_type": "execute_result"
    }
   ],
   "source": [
    "model.evaluate(X_test, y_test)"
   ]
  },
  {
   "cell_type": "code",
   "execution_count": 19,
   "id": "e882e14c",
   "metadata": {
    "scrolled": true
   },
   "outputs": [
    {
     "data": {
      "text/plain": [
       "array([[22.928244 ],\n",
       "       [13.253024 ],\n",
       "       [25.029106 ],\n",
       "       [22.499533 ],\n",
       "       [ 8.401913 ],\n",
       "       [12.275751 ],\n",
       "       [19.688168 ],\n",
       "       [ 8.152657 ],\n",
       "       [41.45048  ],\n",
       "       [26.885393 ],\n",
       "       [17.56444  ],\n",
       "       [17.316896 ],\n",
       "       [23.532158 ],\n",
       "       [18.836931 ],\n",
       "       [13.363395 ],\n",
       "       [14.1465435],\n",
       "       [31.58375  ],\n",
       "       [29.557169 ],\n",
       "       [23.800127 ],\n",
       "       [12.11445  ],\n",
       "       [24.312216 ],\n",
       "       [33.865536 ],\n",
       "       [52.57903  ],\n",
       "       [31.388346 ],\n",
       "       [12.294818 ],\n",
       "       [11.5649605],\n",
       "       [15.999739 ],\n",
       "       [18.410673 ],\n",
       "       [29.595879 ],\n",
       "       [22.329493 ],\n",
       "       [ 8.99025  ],\n",
       "       [ 9.519634 ],\n",
       "       [15.375633 ],\n",
       "       [10.609575 ],\n",
       "       [25.989061 ],\n",
       "       [23.889105 ],\n",
       "       [21.135412 ],\n",
       "       [18.20584  ],\n",
       "       [17.79093  ],\n",
       "       [36.08357  ],\n",
       "       [22.409609 ],\n",
       "       [29.411581 ],\n",
       "       [24.105354 ],\n",
       "       [10.911335 ],\n",
       "       [23.204103 ],\n",
       "       [18.032309 ],\n",
       "       [19.37979  ],\n",
       "       [23.816874 ],\n",
       "       [16.424746 ],\n",
       "       [17.860504 ],\n",
       "       [23.97376  ]], dtype=float32)"
      ]
     },
     "execution_count": 19,
     "metadata": {},
     "output_type": "execute_result"
    }
   ],
   "source": [
    "pred_test = model.predict(X_test)\n",
    "pred_test"
   ]
  },
  {
   "cell_type": "code",
   "execution_count": 20,
   "id": "bf280878",
   "metadata": {},
   "outputs": [
    {
     "data": {
      "text/plain": [
       "0.896260190823774"
      ]
     },
     "execution_count": 20,
     "metadata": {},
     "output_type": "execute_result"
    }
   ],
   "source": [
    "from sklearn.metrics import r2_score\n",
    "R2 = r2_score(y_test, pred_test, multioutput='variance_weighted')\n",
    "R2"
   ]
  }
 ],
 "metadata": {
  "kernelspec": {
   "display_name": "Python 3",
   "language": "python",
   "name": "python3"
  },
  "language_info": {
   "codemirror_mode": {
    "name": "ipython",
    "version": 3
   },
   "file_extension": ".py",
   "mimetype": "text/x-python",
   "name": "python",
   "nbconvert_exporter": "python",
   "pygments_lexer": "ipython3",
   "version": "3.8.8"
  }
 },
 "nbformat": 4,
 "nbformat_minor": 5
}
