{
 "cells": [
  {
   "cell_type": "markdown",
   "metadata": {
    "id": "WJ6_-OEoLT7w"
   },
   "source": [
    "# 분석환경 준비"
   ]
  },
  {
   "cell_type": "code",
   "execution_count": null,
   "metadata": {
    "colab": {
     "base_uri": "https://localhost:8080/",
     "height": 34
    },
    "executionInfo": {
     "elapsed": 3276,
     "status": "ok",
     "timestamp": 1603890791509,
     "user": {
      "displayName": "오승환",
      "photoUrl": "https://lh3.googleusercontent.com/a-/AOh14GgBRB1w8bMEGhEpsp7aa7I9MQGz2D37o6hJeKeW=s64",
      "userId": "00933700884551564729"
     },
     "user_tz": -540
    },
    "id": "h9p4-xQbd9ph",
    "outputId": "f1700a0e-174a-492b-d18f-a1d45d107b36"
   },
   "outputs": [
    {
     "name": "stdout",
     "output_type": "stream",
     "text": [
      "시드 고정:  12\n"
     ]
    }
   ],
   "source": [
    "# 필수 라이브러리\n",
    "import pandas as pd\n",
    "import numpy as np\n",
    "import random\n",
    "import tensorflow as tf\n",
    "\n",
    "# 랜덤 시드 고정\n",
    "SEED=12\n",
    "random.seed(SEED)\n",
    "np.random.seed(SEED)\n",
    "tf.random.set_seed(SEED)  \n",
    "print(\"시드 고정: \", SEED)"
   ]
  },
  {
   "cell_type": "code",
   "execution_count": null,
   "metadata": {
    "colab": {
     "base_uri": "https://localhost:8080/",
     "height": 34
    },
    "executionInfo": {
     "elapsed": 61734,
     "status": "ok",
     "timestamp": 1603890849998,
     "user": {
      "displayName": "오승환",
      "photoUrl": "https://lh3.googleusercontent.com/a-/AOh14GgBRB1w8bMEGhEpsp7aa7I9MQGz2D37o6hJeKeW=s64",
      "userId": "00933700884551564729"
     },
     "user_tz": -540
    },
    "id": "fEuGXtMoxzgB",
    "outputId": "3e3e08b7-f525-4bb2-a5b9-6dd4e8afb729"
   },
   "outputs": [
    {
     "name": "stdout",
     "output_type": "stream",
     "text": [
      "Mounted at /gdrive\n"
     ]
    }
   ],
   "source": [
    "# 구글 드라이브 마운트\n",
    "from google.colab import drive\n",
    "drive.mount('/gdrive')"
   ]
  },
  {
   "cell_type": "markdown",
   "metadata": {
    "id": "qTwSGGIB74h7"
   },
   "source": [
    "# 데이터 전처리"
   ]
  },
  {
   "cell_type": "code",
   "execution_count": null,
   "metadata": {
    "colab": {
     "base_uri": "https://localhost:8080/",
     "height": 34
    },
    "executionInfo": {
     "elapsed": 7154,
     "status": "ok",
     "timestamp": 1603890852339,
     "user": {
      "displayName": "오승환",
      "photoUrl": "https://lh3.googleusercontent.com/a-/AOh14GgBRB1w8bMEGhEpsp7aa7I9MQGz2D37o6hJeKeW=s64",
      "userId": "00933700884551564729"
     },
     "user_tz": -540
    },
    "id": "dvjUCzQ5x-uI",
    "outputId": "7e294f37-4f6b-4ed9-89e3-72eb594fe801"
   },
   "outputs": [
    {
     "name": "stdout",
     "output_type": "stream",
     "text": [
      "(5497, 14) (1000, 13) (1000, 2)\n"
     ]
    }
   ],
   "source": [
    "# 데이콘 사이트에서 다운로드한 CSV파일을 읽어오기\n",
    "drive_path = \"/gdrive/My Drive/\"\n",
    "\n",
    "train = pd.read_csv(drive_path + \"wine/train.csv\")\n",
    "test = pd.read_csv(drive_path + \"wine/test.csv\")\n",
    "submission = pd.read_csv(drive_path + \"wine/sample_submission.csv\")\n",
    "\n",
    "print(train.shape, test.shape, submission.shape)"
   ]
  },
  {
   "cell_type": "code",
   "execution_count": null,
   "metadata": {
    "colab": {
     "base_uri": "https://localhost:8080/",
     "height": 141
    },
    "executionInfo": {
     "elapsed": 6264,
     "status": "ok",
     "timestamp": 1603890852344,
     "user": {
      "displayName": "오승환",
      "photoUrl": "https://lh3.googleusercontent.com/a-/AOh14GgBRB1w8bMEGhEpsp7aa7I9MQGz2D37o6hJeKeW=s64",
      "userId": "00933700884551564729"
     },
     "user_tz": -540
    },
    "id": "8y7-X2pbNXbt",
    "outputId": "c9a1e987-76bc-4495-f5b1-574741732bc1"
   },
   "outputs": [
    {
     "data": {
      "text/html": [
       "<div>\n",
       "<style scoped>\n",
       "    .dataframe tbody tr th:only-of-type {\n",
       "        vertical-align: middle;\n",
       "    }\n",
       "\n",
       "    .dataframe tbody tr th {\n",
       "        vertical-align: top;\n",
       "    }\n",
       "\n",
       "    .dataframe thead th {\n",
       "        text-align: right;\n",
       "    }\n",
       "</style>\n",
       "<table border=\"1\" class=\"dataframe\">\n",
       "  <thead>\n",
       "    <tr style=\"text-align: right;\">\n",
       "      <th></th>\n",
       "      <th>index</th>\n",
       "      <th>quality</th>\n",
       "      <th>fixed acidity</th>\n",
       "      <th>volatile acidity</th>\n",
       "      <th>citric acid</th>\n",
       "      <th>residual sugar</th>\n",
       "      <th>chlorides</th>\n",
       "      <th>free sulfur dioxide</th>\n",
       "      <th>total sulfur dioxide</th>\n",
       "      <th>density</th>\n",
       "      <th>pH</th>\n",
       "      <th>sulphates</th>\n",
       "      <th>alcohol</th>\n",
       "      <th>type</th>\n",
       "    </tr>\n",
       "  </thead>\n",
       "  <tbody>\n",
       "    <tr>\n",
       "      <th>0</th>\n",
       "      <td>0</td>\n",
       "      <td>5</td>\n",
       "      <td>5.6</td>\n",
       "      <td>0.695</td>\n",
       "      <td>0.06</td>\n",
       "      <td>6.8</td>\n",
       "      <td>0.042</td>\n",
       "      <td>9.0</td>\n",
       "      <td>84.0</td>\n",
       "      <td>0.99432</td>\n",
       "      <td>3.44</td>\n",
       "      <td>0.44</td>\n",
       "      <td>10.2</td>\n",
       "      <td>white</td>\n",
       "    </tr>\n",
       "    <tr>\n",
       "      <th>1</th>\n",
       "      <td>1</td>\n",
       "      <td>5</td>\n",
       "      <td>8.8</td>\n",
       "      <td>0.610</td>\n",
       "      <td>0.14</td>\n",
       "      <td>2.4</td>\n",
       "      <td>0.067</td>\n",
       "      <td>10.0</td>\n",
       "      <td>42.0</td>\n",
       "      <td>0.99690</td>\n",
       "      <td>3.19</td>\n",
       "      <td>0.59</td>\n",
       "      <td>9.5</td>\n",
       "      <td>red</td>\n",
       "    </tr>\n",
       "  </tbody>\n",
       "</table>\n",
       "</div>"
      ],
      "text/plain": [
       "   index  quality  fixed acidity  ...  sulphates  alcohol   type\n",
       "0      0        5            5.6  ...       0.44     10.2  white\n",
       "1      1        5            8.8  ...       0.59      9.5    red\n",
       "\n",
       "[2 rows x 14 columns]"
      ]
     },
     "execution_count": 4,
     "metadata": {
      "tags": []
     },
     "output_type": "execute_result"
    }
   ],
   "source": [
    "train.head(2)"
   ]
  },
  {
   "cell_type": "code",
   "execution_count": null,
   "metadata": {
    "colab": {
     "base_uri": "https://localhost:8080/",
     "height": 197
    },
    "executionInfo": {
     "elapsed": 5659,
     "status": "ok",
     "timestamp": 1603890852346,
     "user": {
      "displayName": "오승환",
      "photoUrl": "https://lh3.googleusercontent.com/a-/AOh14GgBRB1w8bMEGhEpsp7aa7I9MQGz2D37o6hJeKeW=s64",
      "userId": "00933700884551564729"
     },
     "user_tz": -540
    },
    "id": "2CG6Pn17NXiv",
    "outputId": "1a01c9e2-3b1e-4e41-cab3-c6d4aa38d0a9"
   },
   "outputs": [
    {
     "data": {
      "text/html": [
       "<div>\n",
       "<style scoped>\n",
       "    .dataframe tbody tr th:only-of-type {\n",
       "        vertical-align: middle;\n",
       "    }\n",
       "\n",
       "    .dataframe tbody tr th {\n",
       "        vertical-align: top;\n",
       "    }\n",
       "\n",
       "    .dataframe thead th {\n",
       "        text-align: right;\n",
       "    }\n",
       "</style>\n",
       "<table border=\"1\" class=\"dataframe\">\n",
       "  <thead>\n",
       "    <tr style=\"text-align: right;\">\n",
       "      <th></th>\n",
       "      <th>index</th>\n",
       "      <th>quality</th>\n",
       "    </tr>\n",
       "  </thead>\n",
       "  <tbody>\n",
       "    <tr>\n",
       "      <th>0</th>\n",
       "      <td>0</td>\n",
       "      <td>0</td>\n",
       "    </tr>\n",
       "    <tr>\n",
       "      <th>1</th>\n",
       "      <td>1</td>\n",
       "      <td>0</td>\n",
       "    </tr>\n",
       "    <tr>\n",
       "      <th>2</th>\n",
       "      <td>2</td>\n",
       "      <td>0</td>\n",
       "    </tr>\n",
       "    <tr>\n",
       "      <th>3</th>\n",
       "      <td>3</td>\n",
       "      <td>0</td>\n",
       "    </tr>\n",
       "    <tr>\n",
       "      <th>4</th>\n",
       "      <td>4</td>\n",
       "      <td>0</td>\n",
       "    </tr>\n",
       "  </tbody>\n",
       "</table>\n",
       "</div>"
      ],
      "text/plain": [
       "   index  quality\n",
       "0      0        0\n",
       "1      1        0\n",
       "2      2        0\n",
       "3      3        0\n",
       "4      4        0"
      ]
     },
     "execution_count": 5,
     "metadata": {
      "tags": []
     },
     "output_type": "execute_result"
    }
   ],
   "source": [
    "submission.head()"
   ]
  },
  {
   "cell_type": "code",
   "execution_count": null,
   "metadata": {
    "colab": {
     "base_uri": "https://localhost:8080/",
     "height": 69
    },
    "executionInfo": {
     "elapsed": 5285,
     "status": "ok",
     "timestamp": 1603890852347,
     "user": {
      "displayName": "오승환",
      "photoUrl": "https://lh3.googleusercontent.com/a-/AOh14GgBRB1w8bMEGhEpsp7aa7I9MQGz2D37o6hJeKeW=s64",
      "userId": "00933700884551564729"
     },
     "user_tz": -540
    },
    "id": "I5F8PNcVNj-A",
    "outputId": "c8ebc506-8545-43c8-9e55-179347cf63ea"
   },
   "outputs": [
    {
     "data": {
      "text/plain": [
       "white    4159\n",
       "red      1338\n",
       "Name: type, dtype: int64"
      ]
     },
     "execution_count": 6,
     "metadata": {
      "tags": []
     },
     "output_type": "execute_result"
    }
   ],
   "source": [
    "train['type'].value_counts()"
   ]
  },
  {
   "cell_type": "code",
   "execution_count": null,
   "metadata": {
    "colab": {
     "base_uri": "https://localhost:8080/",
     "height": 69
    },
    "executionInfo": {
     "elapsed": 4729,
     "status": "ok",
     "timestamp": 1603890852349,
     "user": {
      "displayName": "오승환",
      "photoUrl": "https://lh3.googleusercontent.com/a-/AOh14GgBRB1w8bMEGhEpsp7aa7I9MQGz2D37o6hJeKeW=s64",
      "userId": "00933700884551564729"
     },
     "user_tz": -540
    },
    "id": "EiCY3fqz7OKy",
    "outputId": "0c47fca5-9af7-4397-9245-5efa222b72fd"
   },
   "outputs": [
    {
     "data": {
      "text/plain": [
       "1    4159\n",
       "0    1338\n",
       "Name: type, dtype: int64"
      ]
     },
     "execution_count": 7,
     "metadata": {
      "tags": []
     },
     "output_type": "execute_result"
    }
   ],
   "source": [
    "train['type'] = np.where(train['type']=='white', 1, 0).astype(int)\n",
    "test['type'] = np.where(test['type']=='white', 1, 0).astype(int)\n",
    "train['type'].value_counts()"
   ]
  },
  {
   "cell_type": "code",
   "execution_count": null,
   "metadata": {
    "colab": {
     "base_uri": "https://localhost:8080/",
     "height": 157
    },
    "executionInfo": {
     "elapsed": 4163,
     "status": "ok",
     "timestamp": 1603890852351,
     "user": {
      "displayName": "오승환",
      "photoUrl": "https://lh3.googleusercontent.com/a-/AOh14GgBRB1w8bMEGhEpsp7aa7I9MQGz2D37o6hJeKeW=s64",
      "userId": "00933700884551564729"
     },
     "user_tz": -540
    },
    "id": "2KKWAHX3Ozwd",
    "outputId": "80d1d9f6-688d-4300-af9a-f85476729718"
   },
   "outputs": [
    {
     "data": {
      "text/plain": [
       "6    2416\n",
       "5    1788\n",
       "7     924\n",
       "4     186\n",
       "8     152\n",
       "3      26\n",
       "9       5\n",
       "Name: quality, dtype: int64"
      ]
     },
     "execution_count": 8,
     "metadata": {
      "tags": []
     },
     "output_type": "execute_result"
    }
   ],
   "source": [
    "train['quality'].value_counts()"
   ]
  },
  {
   "cell_type": "code",
   "execution_count": null,
   "metadata": {
    "colab": {
     "base_uri": "https://localhost:8080/",
     "height": 139
    },
    "executionInfo": {
     "elapsed": 3823,
     "status": "ok",
     "timestamp": 1603890852353,
     "user": {
      "displayName": "오승환",
      "photoUrl": "https://lh3.googleusercontent.com/a-/AOh14GgBRB1w8bMEGhEpsp7aa7I9MQGz2D37o6hJeKeW=s64",
      "userId": "00933700884551564729"
     },
     "user_tz": -540
    },
    "id": "BYDHw5ZRzL9O",
    "outputId": "aef527ab-ce10-4699-b418-2769a3f205b2"
   },
   "outputs": [
    {
     "data": {
      "text/plain": [
       "array([[0., 0., 1., ..., 0., 0., 0.],\n",
       "       [0., 0., 1., ..., 0., 0., 0.],\n",
       "       [0., 0., 1., ..., 0., 0., 0.],\n",
       "       ...,\n",
       "       [0., 0., 0., ..., 1., 0., 0.],\n",
       "       [0., 0., 1., ..., 0., 0., 0.],\n",
       "       [0., 0., 0., ..., 0., 0., 0.]], dtype=float32)"
      ]
     },
     "execution_count": 9,
     "metadata": {
      "tags": []
     },
     "output_type": "execute_result"
    }
   ],
   "source": [
    "from tensorflow.keras.utils import to_categorical\n",
    "\n",
    "y_train = to_categorical(train.loc[:, 'quality'] - 3)\n",
    "y_train"
   ]
  },
  {
   "cell_type": "code",
   "execution_count": null,
   "metadata": {
    "colab": {
     "base_uri": "https://localhost:8080/",
     "height": 52
    },
    "executionInfo": {
     "elapsed": 4663,
     "status": "ok",
     "timestamp": 1603890853582,
     "user": {
      "displayName": "오승환",
      "photoUrl": "https://lh3.googleusercontent.com/a-/AOh14GgBRB1w8bMEGhEpsp7aa7I9MQGz2D37o6hJeKeW=s64",
      "userId": "00933700884551564729"
     },
     "user_tz": -540
    },
    "id": "dnvELAGZOz3B",
    "outputId": "68ade6f3-c1fb-40cf-de80-425e1e7b6d1e"
   },
   "outputs": [
    {
     "name": "stdout",
     "output_type": "stream",
     "text": [
      "(5497, 12) (5497, 7)\n",
      "(1000, 12)\n"
     ]
    }
   ],
   "source": [
    "# 피처 선택\n",
    "X_train = train.loc[:, 'fixed acidity':]\n",
    "X_test = test.loc[:, 'fixed acidity':]\n",
    "\n",
    "# 피처 스케일링\n",
    "from sklearn.preprocessing import MinMaxScaler\n",
    "scaler=MinMaxScaler()\n",
    "scaler.fit(X_train)\n",
    "X_train_scaled = scaler.fit_transform(X_train)\n",
    "X_test_scaled = scaler.fit_transform(X_test)\n",
    "\n",
    "print(X_train_scaled.shape, y_train.shape)\n",
    "print(X_test_scaled.shape)"
   ]
  },
  {
   "cell_type": "markdown",
   "metadata": {
    "id": "5p2ucCS6KpJV"
   },
   "source": [
    "# 신경망 학습"
   ]
  },
  {
   "cell_type": "code",
   "execution_count": null,
   "metadata": {
    "colab": {
     "base_uri": "https://localhost:8080/",
     "height": 367
    },
    "executionInfo": {
     "elapsed": 2306,
     "status": "ok",
     "timestamp": 1603890854263,
     "user": {
      "displayName": "오승환",
      "photoUrl": "https://lh3.googleusercontent.com/a-/AOh14GgBRB1w8bMEGhEpsp7aa7I9MQGz2D37o6hJeKeW=s64",
      "userId": "00933700884551564729"
     },
     "user_tz": -540
    },
    "id": "q-zfjBdlprBZ",
    "outputId": "198d0d81-d754-4bee-db97-b231a89b64c4"
   },
   "outputs": [
    {
     "name": "stdout",
     "output_type": "stream",
     "text": [
      "Model: \"sequential\"\n",
      "_________________________________________________________________\n",
      "Layer (type)                 Output Shape              Param #   \n",
      "=================================================================\n",
      "dense (Dense)                (None, 128)               1664      \n",
      "_________________________________________________________________\n",
      "dropout (Dropout)            (None, 128)               0         \n",
      "_________________________________________________________________\n",
      "dense_1 (Dense)              (None, 64)                8256      \n",
      "_________________________________________________________________\n",
      "dropout_1 (Dropout)          (None, 64)                0         \n",
      "_________________________________________________________________\n",
      "dense_2 (Dense)              (None, 32)                2080      \n",
      "_________________________________________________________________\n",
      "dense_3 (Dense)              (None, 7)                 231       \n",
      "=================================================================\n",
      "Total params: 12,231\n",
      "Trainable params: 12,231\n",
      "Non-trainable params: 0\n",
      "_________________________________________________________________\n"
     ]
    }
   ],
   "source": [
    "# 심층 신경망 모델\n",
    "from tensorflow.keras import Sequential\n",
    "from tensorflow.keras.layers import Dense, Dropout\n",
    "\n",
    "def build_model(train_data, train_target):\n",
    "    model = Sequential()\n",
    "    model.add(Dense(128, activation='tanh', input_dim=train_data.shape[1]))\n",
    "    model.add(Dropout(0.2))\n",
    "    model.add(Dense(64, activation='tanh'))\n",
    "    model.add(Dropout(0.2))\n",
    "    model.add(Dense(32, activation='tanh'))\n",
    "    model.add(Dense(train_target.shape[1], activation='softmax'))\n",
    "\n",
    "    model.compile(optimizer='RMSprop', loss='categorical_crossentropy', \n",
    "                metrics=['acc', 'mae'])\n",
    "\n",
    "    return model\n",
    "\n",
    "model = build_model(X_train_scaled, y_train)\n",
    "model.summary()"
   ]
  },
  {
   "cell_type": "markdown",
   "metadata": {
    "id": "ygJeT6fB7mh6"
   },
   "source": [
    "# 콜백 함수"
   ]
  },
  {
   "cell_type": "code",
   "execution_count": null,
   "metadata": {
    "colab": {
     "base_uri": "https://localhost:8080/",
     "height": 1000
    },
    "executionInfo": {
     "elapsed": 8996,
     "status": "ok",
     "timestamp": 1603890864397,
     "user": {
      "displayName": "오승환",
      "photoUrl": "https://lh3.googleusercontent.com/a-/AOh14GgBRB1w8bMEGhEpsp7aa7I9MQGz2D37o6hJeKeW=s64",
      "userId": "00933700884551564729"
     },
     "user_tz": -540
    },
    "id": "8TJXb9x38BMj",
    "outputId": "cf707a14-188e-4351-e286-63628f77c126"
   },
   "outputs": [
    {
     "name": "stdout",
     "output_type": "stream",
     "text": [
      "Epoch 1/200\n",
      "73/73 - 0s - loss: 1.3005 - acc: 0.4574 - mae: 0.1930 - val_loss: 1.1688 - val_acc: 0.5055 - val_mae: 0.1808\n",
      "Epoch 2/200\n",
      "73/73 - 0s - loss: 1.1752 - acc: 0.5015 - mae: 0.1779 - val_loss: 1.1034 - val_acc: 0.5430 - val_mae: 0.1732\n",
      "Epoch 3/200\n",
      "73/73 - 0s - loss: 1.1449 - acc: 0.5169 - mae: 0.1742 - val_loss: 1.0814 - val_acc: 0.5442 - val_mae: 0.1681\n",
      "Epoch 4/200\n",
      "73/73 - 0s - loss: 1.1285 - acc: 0.5210 - mae: 0.1719 - val_loss: 1.1267 - val_acc: 0.5042 - val_mae: 0.1698\n",
      "Epoch 5/200\n",
      "73/73 - 0s - loss: 1.1177 - acc: 0.5330 - mae: 0.1709 - val_loss: 1.0708 - val_acc: 0.5564 - val_mae: 0.1680\n",
      "Epoch 6/200\n",
      "73/73 - 0s - loss: 1.1098 - acc: 0.5240 - mae: 0.1712 - val_loss: 1.0613 - val_acc: 0.5539 - val_mae: 0.1667\n",
      "Epoch 7/200\n",
      "73/73 - 0s - loss: 1.1028 - acc: 0.5291 - mae: 0.1704 - val_loss: 1.0571 - val_acc: 0.5503 - val_mae: 0.1658\n",
      "Epoch 8/200\n",
      "73/73 - 0s - loss: 1.0996 - acc: 0.5216 - mae: 0.1700 - val_loss: 1.0612 - val_acc: 0.5576 - val_mae: 0.1655\n",
      "Epoch 9/200\n",
      "73/73 - 0s - loss: 1.1007 - acc: 0.5334 - mae: 0.1693 - val_loss: 1.0609 - val_acc: 0.5588 - val_mae: 0.1666\n",
      "Epoch 10/200\n",
      "73/73 - 0s - loss: 1.0927 - acc: 0.5293 - mae: 0.1692 - val_loss: 1.0612 - val_acc: 0.5370 - val_mae: 0.1684\n",
      "Epoch 11/200\n",
      "73/73 - 0s - loss: 1.0888 - acc: 0.5357 - mae: 0.1687 - val_loss: 1.0508 - val_acc: 0.5333 - val_mae: 0.1643\n",
      "Epoch 12/200\n",
      "73/73 - 0s - loss: 1.0894 - acc: 0.5265 - mae: 0.1689 - val_loss: 1.0499 - val_acc: 0.5552 - val_mae: 0.1659\n",
      "Epoch 13/200\n",
      "73/73 - 0s - loss: 1.0859 - acc: 0.5302 - mae: 0.1682 - val_loss: 1.0512 - val_acc: 0.5479 - val_mae: 0.1672\n",
      "Epoch 14/200\n",
      "73/73 - 0s - loss: 1.0813 - acc: 0.5400 - mae: 0.1682 - val_loss: 1.0457 - val_acc: 0.5527 - val_mae: 0.1639\n",
      "Epoch 15/200\n",
      "73/73 - 0s - loss: 1.0827 - acc: 0.5353 - mae: 0.1680 - val_loss: 1.0499 - val_acc: 0.5515 - val_mae: 0.1654\n",
      "Epoch 16/200\n",
      "73/73 - 0s - loss: 1.0821 - acc: 0.5372 - mae: 0.1677 - val_loss: 1.0494 - val_acc: 0.5467 - val_mae: 0.1643\n",
      "Epoch 17/200\n",
      "73/73 - 0s - loss: 1.0812 - acc: 0.5349 - mae: 0.1679 - val_loss: 1.0466 - val_acc: 0.5588 - val_mae: 0.1670\n",
      "Epoch 18/200\n",
      "73/73 - 0s - loss: 1.0789 - acc: 0.5360 - mae: 0.1683 - val_loss: 1.0464 - val_acc: 0.5552 - val_mae: 0.1667\n",
      "Epoch 19/200\n",
      "73/73 - 0s - loss: 1.0792 - acc: 0.5396 - mae: 0.1678 - val_loss: 1.0375 - val_acc: 0.5600 - val_mae: 0.1642\n",
      "Epoch 20/200\n",
      "73/73 - 0s - loss: 1.0743 - acc: 0.5432 - mae: 0.1674 - val_loss: 1.0355 - val_acc: 0.5600 - val_mae: 0.1641\n",
      "Epoch 21/200\n",
      "73/73 - 0s - loss: 1.0720 - acc: 0.5405 - mae: 0.1668 - val_loss: 1.0395 - val_acc: 0.5539 - val_mae: 0.1654\n",
      "Epoch 22/200\n",
      "73/73 - 0s - loss: 1.0735 - acc: 0.5390 - mae: 0.1673 - val_loss: 1.0492 - val_acc: 0.5309 - val_mae: 0.1650\n",
      "Epoch 23/200\n",
      "73/73 - 0s - loss: 1.0739 - acc: 0.5424 - mae: 0.1672 - val_loss: 1.0418 - val_acc: 0.5673 - val_mae: 0.1639\n",
      "Epoch 24/200\n",
      "73/73 - 0s - loss: 1.0688 - acc: 0.5445 - mae: 0.1662 - val_loss: 1.0342 - val_acc: 0.5527 - val_mae: 0.1652\n",
      "Epoch 25/200\n",
      "73/73 - 0s - loss: 1.0670 - acc: 0.5437 - mae: 0.1666 - val_loss: 1.0323 - val_acc: 0.5624 - val_mae: 0.1620\n",
      "Epoch 26/200\n",
      "73/73 - 0s - loss: 1.0643 - acc: 0.5447 - mae: 0.1660 - val_loss: 1.0496 - val_acc: 0.5418 - val_mae: 0.1650\n",
      "Epoch 27/200\n",
      "73/73 - 0s - loss: 1.0618 - acc: 0.5441 - mae: 0.1659 - val_loss: 1.0435 - val_acc: 0.5455 - val_mae: 0.1635\n",
      "Epoch 28/200\n",
      "73/73 - 0s - loss: 1.0621 - acc: 0.5497 - mae: 0.1657 - val_loss: 1.0335 - val_acc: 0.5479 - val_mae: 0.1634\n",
      "Epoch 29/200\n",
      "73/73 - 0s - loss: 1.0614 - acc: 0.5486 - mae: 0.1656 - val_loss: 1.0344 - val_acc: 0.5576 - val_mae: 0.1640\n",
      "Epoch 30/200\n",
      "73/73 - 0s - loss: 1.0569 - acc: 0.5439 - mae: 0.1657 - val_loss: 1.0313 - val_acc: 0.5503 - val_mae: 0.1604\n",
      "Epoch 31/200\n",
      "73/73 - 0s - loss: 1.0578 - acc: 0.5464 - mae: 0.1649 - val_loss: 1.0361 - val_acc: 0.5770 - val_mae: 0.1635\n",
      "Epoch 32/200\n",
      "73/73 - 0s - loss: 1.0492 - acc: 0.5554 - mae: 0.1643 - val_loss: 1.0363 - val_acc: 0.5479 - val_mae: 0.1639\n",
      "Epoch 33/200\n",
      "73/73 - 0s - loss: 1.0566 - acc: 0.5454 - mae: 0.1653 - val_loss: 1.0344 - val_acc: 0.5576 - val_mae: 0.1633\n",
      "Epoch 34/200\n",
      "73/73 - 0s - loss: 1.0551 - acc: 0.5477 - mae: 0.1649 - val_loss: 1.0279 - val_acc: 0.5600 - val_mae: 0.1619\n",
      "Epoch 35/200\n",
      "73/73 - 0s - loss: 1.0490 - acc: 0.5546 - mae: 0.1640 - val_loss: 1.0307 - val_acc: 0.5648 - val_mae: 0.1623\n",
      "Epoch 36/200\n",
      "73/73 - 0s - loss: 1.0525 - acc: 0.5520 - mae: 0.1645 - val_loss: 1.0345 - val_acc: 0.5661 - val_mae: 0.1634\n",
      "Epoch 37/200\n",
      "73/73 - 0s - loss: 1.0467 - acc: 0.5486 - mae: 0.1635 - val_loss: 1.0300 - val_acc: 0.5467 - val_mae: 0.1625\n",
      "Epoch 38/200\n",
      "73/73 - 0s - loss: 1.0476 - acc: 0.5533 - mae: 0.1641 - val_loss: 1.0282 - val_acc: 0.5491 - val_mae: 0.1609\n",
      "Epoch 39/200\n",
      "73/73 - 0s - loss: 1.0476 - acc: 0.5518 - mae: 0.1635 - val_loss: 1.0271 - val_acc: 0.5539 - val_mae: 0.1615\n",
      "Epoch 40/200\n",
      "73/73 - 0s - loss: 1.0460 - acc: 0.5516 - mae: 0.1640 - val_loss: 1.0331 - val_acc: 0.5806 - val_mae: 0.1626\n",
      "Epoch 41/200\n",
      "73/73 - 0s - loss: 1.0491 - acc: 0.5509 - mae: 0.1640 - val_loss: 1.0291 - val_acc: 0.5794 - val_mae: 0.1610\n",
      "Epoch 42/200\n",
      "73/73 - 0s - loss: 1.0430 - acc: 0.5531 - mae: 0.1632 - val_loss: 1.0354 - val_acc: 0.5830 - val_mae: 0.1646\n",
      "Epoch 43/200\n",
      "73/73 - 0s - loss: 1.0465 - acc: 0.5512 - mae: 0.1640 - val_loss: 1.0362 - val_acc: 0.5479 - val_mae: 0.1625\n",
      "Epoch 44/200\n",
      "73/73 - 0s - loss: 1.0454 - acc: 0.5518 - mae: 0.1643 - val_loss: 1.0244 - val_acc: 0.5648 - val_mae: 0.1610\n",
      "Epoch 45/200\n",
      "73/73 - 0s - loss: 1.0444 - acc: 0.5486 - mae: 0.1637 - val_loss: 1.0311 - val_acc: 0.5648 - val_mae: 0.1616\n",
      "Epoch 46/200\n",
      "73/73 - 0s - loss: 1.0445 - acc: 0.5524 - mae: 0.1641 - val_loss: 1.0260 - val_acc: 0.5539 - val_mae: 0.1600\n",
      "Epoch 47/200\n",
      "73/73 - 0s - loss: 1.0426 - acc: 0.5503 - mae: 0.1634 - val_loss: 1.0409 - val_acc: 0.5709 - val_mae: 0.1620\n",
      "Epoch 48/200\n",
      "73/73 - 0s - loss: 1.0411 - acc: 0.5533 - mae: 0.1631 - val_loss: 1.0284 - val_acc: 0.5552 - val_mae: 0.1600\n",
      "Epoch 49/200\n",
      "73/73 - 0s - loss: 1.0345 - acc: 0.5512 - mae: 0.1626 - val_loss: 1.0259 - val_acc: 0.5648 - val_mae: 0.1609\n",
      "Epoch 50/200\n",
      "73/73 - 0s - loss: 1.0407 - acc: 0.5533 - mae: 0.1632 - val_loss: 1.0260 - val_acc: 0.5588 - val_mae: 0.1617\n",
      "Epoch 51/200\n",
      "73/73 - 0s - loss: 1.0401 - acc: 0.5557 - mae: 0.1631 - val_loss: 1.0282 - val_acc: 0.5782 - val_mae: 0.1613\n",
      "Epoch 52/200\n",
      "73/73 - 0s - loss: 1.0409 - acc: 0.5569 - mae: 0.1631 - val_loss: 1.0411 - val_acc: 0.5527 - val_mae: 0.1639\n",
      "Epoch 53/200\n",
      "73/73 - 0s - loss: 1.0379 - acc: 0.5531 - mae: 0.1632 - val_loss: 1.0257 - val_acc: 0.5673 - val_mae: 0.1608\n",
      "Epoch 54/200\n",
      "73/73 - 0s - loss: 1.0376 - acc: 0.5567 - mae: 0.1627 - val_loss: 1.0265 - val_acc: 0.5576 - val_mae: 0.1614\n"
     ]
    }
   ],
   "source": [
    "# Early Stopping 기법\n",
    "from sklearn.model_selection import train_test_split\n",
    "from tensorflow.keras.callbacks import EarlyStopping\n",
    "\n",
    "X_tr, X_val, y_tr, y_val = train_test_split(X_train_scaled, y_train, test_size=0.15, \n",
    "                                            shuffle=True, random_state=SEED)\n",
    "\n",
    "early_stopping = EarlyStopping(monitor='val_loss',  patience=10)\n",
    "history = model.fit(X_tr, y_tr, batch_size=64, epochs=200,\n",
    "                    validation_data=(X_val, y_val),\n",
    "                    callbacks=[early_stopping],                    \n",
    "                    verbose=2)"
   ]
  },
  {
   "cell_type": "code",
   "execution_count": null,
   "metadata": {
    "colab": {
     "base_uri": "https://localhost:8080/",
     "height": 52
    },
    "executionInfo": {
     "elapsed": 3201,
     "status": "ok",
     "timestamp": 1603891176562,
     "user": {
      "displayName": "오승환",
      "photoUrl": "https://lh3.googleusercontent.com/a-/AOh14GgBRB1w8bMEGhEpsp7aa7I9MQGz2D37o6hJeKeW=s64",
      "userId": "00933700884551564729"
     },
     "user_tz": -540
    },
    "id": "Ifhb9FHiMuDC",
    "outputId": "8f06ee8a-0c51-4435-9a3d-c9535a45336d"
   },
   "outputs": [
    {
     "name": "stdout",
     "output_type": "stream",
     "text": [
      "26/26 [==============================] - 0s 1ms/step - loss: 1.0265 - acc: 0.5576 - mae: 0.1614\n"
     ]
    },
    {
     "data": {
      "text/plain": [
       "[1.0264517068862915, 0.5575757622718811, 0.16143734753131866]"
      ]
     },
     "execution_count": 13,
     "metadata": {
      "tags": []
     },
     "output_type": "execute_result"
    }
   ],
   "source": [
    "model.evaluate(X_val, y_val)"
   ]
  },
  {
   "cell_type": "code",
   "execution_count": null,
   "metadata": {
    "colab": {
     "base_uri": "https://localhost:8080/",
     "height": 192
    },
    "executionInfo": {
     "elapsed": 1256,
     "status": "ok",
     "timestamp": 1603891244384,
     "user": {
      "displayName": "오승환",
      "photoUrl": "https://lh3.googleusercontent.com/a-/AOh14GgBRB1w8bMEGhEpsp7aa7I9MQGz2D37o6hJeKeW=s64",
      "userId": "00933700884551564729"
     },
     "user_tz": -540
    },
    "id": "WP5kohK0quUL",
    "outputId": "c4c9bbe8-5c35-43cc-b333-da4c4e2ac048"
   },
   "outputs": [
    {
     "data": {
      "text/plain": [
       "array([[9.47426248e-04, 6.51338184e-03, 1.07454561e-01, 6.22603416e-01,\n",
       "        2.17842266e-01, 4.44285981e-02, 2.10311497e-04],\n",
       "       [3.37807485e-03, 2.81181000e-02, 8.08466911e-01, 1.52429342e-01,\n",
       "        7.13104848e-03, 4.59584000e-04, 1.69139166e-05],\n",
       "       [5.04492735e-03, 1.34563502e-02, 4.53614473e-01, 4.81525809e-01,\n",
       "        3.60224396e-02, 1.01609509e-02, 1.75175010e-04],\n",
       "       [3.16306017e-03, 2.47096531e-02, 4.85043049e-01, 4.44753528e-01,\n",
       "        3.69130187e-02, 5.17660752e-03, 2.41071990e-04],\n",
       "       [1.51876360e-03, 2.17930879e-03, 1.87265258e-02, 2.98122764e-01,\n",
       "        5.55454612e-01, 1.21920586e-01, 2.07743281e-03]], dtype=float32)"
      ]
     },
     "execution_count": 14,
     "metadata": {
      "tags": []
     },
     "output_type": "execute_result"
    }
   ],
   "source": [
    "# test 데이터에 대한 예측값 정리\n",
    "y_pred_proba = model.predict(X_test_scaled)\n",
    "y_pred_proba[:5]"
   ]
  },
  {
   "cell_type": "code",
   "execution_count": null,
   "metadata": {
    "colab": {
     "base_uri": "https://localhost:8080/",
     "height": 34
    },
    "executionInfo": {
     "elapsed": 1318,
     "status": "ok",
     "timestamp": 1603891244931,
     "user": {
      "displayName": "오승환",
      "photoUrl": "https://lh3.googleusercontent.com/a-/AOh14GgBRB1w8bMEGhEpsp7aa7I9MQGz2D37o6hJeKeW=s64",
      "userId": "00933700884551564729"
     },
     "user_tz": -540
    },
    "id": "B1S5u_hNMX45",
    "outputId": "a9512509-8dbd-4b23-b685-171d1c82199f"
   },
   "outputs": [
    {
     "data": {
      "text/plain": [
       "array([6, 5, 6, 5, 7])"
      ]
     },
     "execution_count": 15,
     "metadata": {
      "tags": []
     },
     "output_type": "execute_result"
    }
   ],
   "source": [
    "y_pred_label = np.argmax(y_pred_proba, axis=-1) + 3\n",
    "y_pred_label[:5]"
   ]
  },
  {
   "cell_type": "code",
   "execution_count": null,
   "metadata": {
    "colab": {
     "base_uri": "https://localhost:8080/",
     "height": 197
    },
    "executionInfo": {
     "elapsed": 1118,
     "status": "ok",
     "timestamp": 1603891287050,
     "user": {
      "displayName": "오승환",
      "photoUrl": "https://lh3.googleusercontent.com/a-/AOh14GgBRB1w8bMEGhEpsp7aa7I9MQGz2D37o6hJeKeW=s64",
      "userId": "00933700884551564729"
     },
     "user_tz": -540
    },
    "id": "JmMkBtxQquUV",
    "outputId": "8b69b197-b154-4a6f-d736-b9ed2b1eda0c"
   },
   "outputs": [
    {
     "data": {
      "text/html": [
       "<div>\n",
       "<style scoped>\n",
       "    .dataframe tbody tr th:only-of-type {\n",
       "        vertical-align: middle;\n",
       "    }\n",
       "\n",
       "    .dataframe tbody tr th {\n",
       "        vertical-align: top;\n",
       "    }\n",
       "\n",
       "    .dataframe thead th {\n",
       "        text-align: right;\n",
       "    }\n",
       "</style>\n",
       "<table border=\"1\" class=\"dataframe\">\n",
       "  <thead>\n",
       "    <tr style=\"text-align: right;\">\n",
       "      <th></th>\n",
       "      <th>index</th>\n",
       "      <th>quality</th>\n",
       "    </tr>\n",
       "  </thead>\n",
       "  <tbody>\n",
       "    <tr>\n",
       "      <th>0</th>\n",
       "      <td>0</td>\n",
       "      <td>6</td>\n",
       "    </tr>\n",
       "    <tr>\n",
       "      <th>1</th>\n",
       "      <td>1</td>\n",
       "      <td>5</td>\n",
       "    </tr>\n",
       "    <tr>\n",
       "      <th>2</th>\n",
       "      <td>2</td>\n",
       "      <td>6</td>\n",
       "    </tr>\n",
       "    <tr>\n",
       "      <th>3</th>\n",
       "      <td>3</td>\n",
       "      <td>5</td>\n",
       "    </tr>\n",
       "    <tr>\n",
       "      <th>4</th>\n",
       "      <td>4</td>\n",
       "      <td>7</td>\n",
       "    </tr>\n",
       "  </tbody>\n",
       "</table>\n",
       "</div>"
      ],
      "text/plain": [
       "   index  quality\n",
       "0      0        6\n",
       "1      1        5\n",
       "2      2        6\n",
       "3      3        5\n",
       "4      4        7"
      ]
     },
     "execution_count": 16,
     "metadata": {
      "tags": []
     },
     "output_type": "execute_result"
    }
   ],
   "source": [
    "# 제출양식에 맞게 정리\n",
    "submission['quality'] = y_pred_label.astype(int)\n",
    "submission.head()"
   ]
  },
  {
   "cell_type": "code",
   "execution_count": null,
   "metadata": {
    "id": "GJD37X6dquUc"
   },
   "outputs": [],
   "source": [
    "# 제출파일 저장    \n",
    "submission.to_csv(drive_path + \"wine/wine_dnn_001.csv\", index=False)   "
   ]
  },
  {
   "cell_type": "code",
   "execution_count": null,
   "metadata": {
    "id": "vs7vYwA2YbYI"
   },
   "outputs": [],
   "source": []
  }
 ],
 "metadata": {
  "colab": {
   "authorship_tag": "ABX9TyPiNlrPdvqrzvddMUr6lLAV",
   "collapsed_sections": [],
   "name": "5.3_wine_classification.ipynb",
   "provenance": []
  },
  "kernelspec": {
   "display_name": "Python 3",
   "language": "python",
   "name": "python3"
  },
  "language_info": {
   "codemirror_mode": {
    "name": "ipython",
    "version": 3
   },
   "file_extension": ".py",
   "mimetype": "text/x-python",
   "name": "python",
   "nbconvert_exporter": "python",
   "pygments_lexer": "ipython3",
   "version": "3.8.8"
  }
 },
 "nbformat": 4,
 "nbformat_minor": 1
}
