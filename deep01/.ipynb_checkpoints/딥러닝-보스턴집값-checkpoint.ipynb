{
 "cells": [
  {
   "cell_type": "code",
   "execution_count": 1,
   "id": "b0c18fb3",
   "metadata": {},
   "outputs": [
    {
     "name": "stdout",
     "output_type": "stream",
     "text": [
      "2.7.0\n"
     ]
    }
   ],
   "source": [
    "import pandas as pd\n",
    "import numpy as np\n",
    "import random\n",
    "import tensorflow as tf\n",
    "print(tf.__version__)"
   ]
  },
  {
   "cell_type": "code",
   "execution_count": 2,
   "id": "ddc083f6",
   "metadata": {},
   "outputs": [],
   "source": [
    "from sklearn import datasets"
   ]
  },
  {
   "cell_type": "code",
   "execution_count": 3,
   "id": "d550eba7",
   "metadata": {},
   "outputs": [],
   "source": [
    "housing = datasets.load_boston()"
   ]
  },
  {
   "cell_type": "code",
   "execution_count": 4,
   "id": "59ee944e",
   "metadata": {},
   "outputs": [
    {
     "data": {
      "text/plain": [
       "array([[6.3200e-03, 1.8000e+01, 2.3100e+00, ..., 1.5300e+01, 3.9690e+02,\n",
       "        4.9800e+00],\n",
       "       [2.7310e-02, 0.0000e+00, 7.0700e+00, ..., 1.7800e+01, 3.9690e+02,\n",
       "        9.1400e+00],\n",
       "       [2.7290e-02, 0.0000e+00, 7.0700e+00, ..., 1.7800e+01, 3.9283e+02,\n",
       "        4.0300e+00],\n",
       "       ...,\n",
       "       [6.0760e-02, 0.0000e+00, 1.1930e+01, ..., 2.1000e+01, 3.9690e+02,\n",
       "        5.6400e+00],\n",
       "       [1.0959e-01, 0.0000e+00, 1.1930e+01, ..., 2.1000e+01, 3.9345e+02,\n",
       "        6.4800e+00],\n",
       "       [4.7410e-02, 0.0000e+00, 1.1930e+01, ..., 2.1000e+01, 3.9690e+02,\n",
       "        7.8800e+00]])"
      ]
     },
     "execution_count": 4,
     "metadata": {},
     "output_type": "execute_result"
    }
   ],
   "source": [
    "X_data = housing.data\n",
    "X_data"
   ]
  },
  {
   "cell_type": "code",
   "execution_count": 5,
   "id": "44272a25",
   "metadata": {},
   "outputs": [
    {
     "data": {
      "text/plain": [
       "array([24. , 21.6, 34.7, 33.4, 36.2, 28.7, 22.9, 27.1, 16.5, 18.9, 15. ,\n",
       "       18.9, 21.7, 20.4, 18.2, 19.9, 23.1, 17.5, 20.2, 18.2, 13.6, 19.6,\n",
       "       15.2, 14.5, 15.6, 13.9, 16.6, 14.8, 18.4, 21. , 12.7, 14.5, 13.2,\n",
       "       13.1, 13.5, 18.9, 20. , 21. , 24.7, 30.8, 34.9, 26.6, 25.3, 24.7,\n",
       "       21.2, 19.3, 20. , 16.6, 14.4, 19.4, 19.7, 20.5, 25. , 23.4, 18.9,\n",
       "       35.4, 24.7, 31.6, 23.3, 19.6, 18.7, 16. , 22.2, 25. , 33. , 23.5,\n",
       "       19.4, 22. , 17.4, 20.9, 24.2, 21.7, 22.8, 23.4, 24.1, 21.4, 20. ,\n",
       "       20.8, 21.2, 20.3, 28. , 23.9, 24.8, 22.9, 23.9, 26.6, 22.5, 22.2,\n",
       "       23.6, 28.7, 22.6, 22. , 22.9, 25. , 20.6, 28.4, 21.4, 38.7, 43.8,\n",
       "       33.2, 27.5, 26.5, 18.6, 19.3, 20.1, 19.5, 19.5, 20.4, 19.8, 19.4,\n",
       "       21.7, 22.8, 18.8, 18.7, 18.5, 18.3, 21.2, 19.2, 20.4, 19.3, 22. ,\n",
       "       20.3, 20.5, 17.3, 18.8, 21.4, 15.7, 16.2, 18. , 14.3, 19.2, 19.6,\n",
       "       23. , 18.4, 15.6, 18.1, 17.4, 17.1, 13.3, 17.8, 14. , 14.4, 13.4,\n",
       "       15.6, 11.8, 13.8, 15.6, 14.6, 17.8, 15.4, 21.5, 19.6, 15.3, 19.4,\n",
       "       17. , 15.6, 13.1, 41.3, 24.3, 23.3, 27. , 50. , 50. , 50. , 22.7,\n",
       "       25. , 50. , 23.8, 23.8, 22.3, 17.4, 19.1, 23.1, 23.6, 22.6, 29.4,\n",
       "       23.2, 24.6, 29.9, 37.2, 39.8, 36.2, 37.9, 32.5, 26.4, 29.6, 50. ,\n",
       "       32. , 29.8, 34.9, 37. , 30.5, 36.4, 31.1, 29.1, 50. , 33.3, 30.3,\n",
       "       34.6, 34.9, 32.9, 24.1, 42.3, 48.5, 50. , 22.6, 24.4, 22.5, 24.4,\n",
       "       20. , 21.7, 19.3, 22.4, 28.1, 23.7, 25. , 23.3, 28.7, 21.5, 23. ,\n",
       "       26.7, 21.7, 27.5, 30.1, 44.8, 50. , 37.6, 31.6, 46.7, 31.5, 24.3,\n",
       "       31.7, 41.7, 48.3, 29. , 24. , 25.1, 31.5, 23.7, 23.3, 22. , 20.1,\n",
       "       22.2, 23.7, 17.6, 18.5, 24.3, 20.5, 24.5, 26.2, 24.4, 24.8, 29.6,\n",
       "       42.8, 21.9, 20.9, 44. , 50. , 36. , 30.1, 33.8, 43.1, 48.8, 31. ,\n",
       "       36.5, 22.8, 30.7, 50. , 43.5, 20.7, 21.1, 25.2, 24.4, 35.2, 32.4,\n",
       "       32. , 33.2, 33.1, 29.1, 35.1, 45.4, 35.4, 46. , 50. , 32.2, 22. ,\n",
       "       20.1, 23.2, 22.3, 24.8, 28.5, 37.3, 27.9, 23.9, 21.7, 28.6, 27.1,\n",
       "       20.3, 22.5, 29. , 24.8, 22. , 26.4, 33.1, 36.1, 28.4, 33.4, 28.2,\n",
       "       22.8, 20.3, 16.1, 22.1, 19.4, 21.6, 23.8, 16.2, 17.8, 19.8, 23.1,\n",
       "       21. , 23.8, 23.1, 20.4, 18.5, 25. , 24.6, 23. , 22.2, 19.3, 22.6,\n",
       "       19.8, 17.1, 19.4, 22.2, 20.7, 21.1, 19.5, 18.5, 20.6, 19. , 18.7,\n",
       "       32.7, 16.5, 23.9, 31.2, 17.5, 17.2, 23.1, 24.5, 26.6, 22.9, 24.1,\n",
       "       18.6, 30.1, 18.2, 20.6, 17.8, 21.7, 22.7, 22.6, 25. , 19.9, 20.8,\n",
       "       16.8, 21.9, 27.5, 21.9, 23.1, 50. , 50. , 50. , 50. , 50. , 13.8,\n",
       "       13.8, 15. , 13.9, 13.3, 13.1, 10.2, 10.4, 10.9, 11.3, 12.3,  8.8,\n",
       "        7.2, 10.5,  7.4, 10.2, 11.5, 15.1, 23.2,  9.7, 13.8, 12.7, 13.1,\n",
       "       12.5,  8.5,  5. ,  6.3,  5.6,  7.2, 12.1,  8.3,  8.5,  5. , 11.9,\n",
       "       27.9, 17.2, 27.5, 15. , 17.2, 17.9, 16.3,  7. ,  7.2,  7.5, 10.4,\n",
       "        8.8,  8.4, 16.7, 14.2, 20.8, 13.4, 11.7,  8.3, 10.2, 10.9, 11. ,\n",
       "        9.5, 14.5, 14.1, 16.1, 14.3, 11.7, 13.4,  9.6,  8.7,  8.4, 12.8,\n",
       "       10.5, 17.1, 18.4, 15.4, 10.8, 11.8, 14.9, 12.6, 14.1, 13. , 13.4,\n",
       "       15.2, 16.1, 17.8, 14.9, 14.1, 12.7, 13.5, 14.9, 20. , 16.4, 17.7,\n",
       "       19.5, 20.2, 21.4, 19.9, 19. , 19.1, 19.1, 20.1, 19.9, 19.6, 23.2,\n",
       "       29.8, 13.8, 13.3, 16.7, 12. , 14.6, 21.4, 23. , 23.7, 25. , 21.8,\n",
       "       20.6, 21.2, 19.1, 20.6, 15.2,  7. ,  8.1, 13.6, 20.1, 21.8, 24.5,\n",
       "       23.1, 19.7, 18.3, 21.2, 17.5, 16.8, 22.4, 20.6, 23.9, 22. , 11.9])"
      ]
     },
     "execution_count": 5,
     "metadata": {},
     "output_type": "execute_result"
    }
   ],
   "source": [
    "y_data = housing.target\n",
    "y_data"
   ]
  },
  {
   "cell_type": "code",
   "execution_count": 6,
   "id": "2dd0d44a",
   "metadata": {},
   "outputs": [
    {
     "name": "stdout",
     "output_type": "stream",
     "text": [
      "(506, 13) (506,)\n"
     ]
    }
   ],
   "source": [
    "print(X_data.shape, y_data.shape)"
   ]
  },
  {
   "cell_type": "code",
   "execution_count": 7,
   "id": "e28412ce",
   "metadata": {},
   "outputs": [
    {
     "data": {
      "text/plain": [
       "array(['CRIM', 'ZN', 'INDUS', 'CHAS', 'NOX', 'RM', 'AGE', 'DIS', 'RAD',\n",
       "       'TAX', 'PTRATIO', 'B', 'LSTAT'], dtype='<U7')"
      ]
     },
     "execution_count": 7,
     "metadata": {},
     "output_type": "execute_result"
    }
   ],
   "source": [
    "housing.feature_names"
   ]
  },
  {
   "cell_type": "code",
   "execution_count": 8,
   "id": "7ef7186d",
   "metadata": {},
   "outputs": [],
   "source": [
    "from sklearn.model_selection import train_test_split"
   ]
  },
  {
   "cell_type": "code",
   "execution_count": 9,
   "id": "249d152e",
   "metadata": {},
   "outputs": [
    {
     "data": {
      "text/plain": [
       "array([[0.00000000e+00, 1.80000000e-01, 6.78152493e-02, ...,\n",
       "        2.87234043e-01, 1.00000000e+00, 8.96799117e-02],\n",
       "       [2.35922539e-04, 0.00000000e+00, 2.42302053e-01, ...,\n",
       "        5.53191489e-01, 1.00000000e+00, 2.04470199e-01],\n",
       "       [2.35697744e-04, 0.00000000e+00, 2.42302053e-01, ...,\n",
       "        5.53191489e-01, 9.89737254e-01, 6.34657837e-02],\n",
       "       ...,\n",
       "       [6.11892474e-04, 0.00000000e+00, 4.20454545e-01, ...,\n",
       "        8.93617021e-01, 1.00000000e+00, 1.07891832e-01],\n",
       "       [1.16072990e-03, 0.00000000e+00, 4.20454545e-01, ...,\n",
       "        8.93617021e-01, 9.91300620e-01, 1.31070640e-01],\n",
       "       [4.61841693e-04, 0.00000000e+00, 4.20454545e-01, ...,\n",
       "        8.93617021e-01, 1.00000000e+00, 1.69701987e-01]])"
      ]
     },
     "execution_count": 9,
     "metadata": {},
     "output_type": "execute_result"
    }
   ],
   "source": [
    "from sklearn.preprocessing import MinMaxScaler\n",
    "scaler = MinMaxScaler()\n",
    "X_data_scaled = scaler.fit_transform(X_data)\n",
    "X_data_scaled"
   ]
  },
  {
   "cell_type": "code",
   "execution_count": 10,
   "id": "57e447ad",
   "metadata": {},
   "outputs": [
    {
     "name": "stdout",
     "output_type": "stream",
     "text": [
      "(404, 13) (404,)\n",
      "(102, 13) (102,)\n"
     ]
    }
   ],
   "source": [
    "X_train, X_test, y_train, y_test = train_test_split(X_data_scaled, y_data, \n",
    "                                                    test_size=0.2, \n",
    "                                                    shuffle=True, \n",
    "                                                    random_state=12)\n",
    "print(X_train.shape, y_train.shape)\n",
    "print(X_test.shape, y_test.shape)"
   ]
  },
  {
   "cell_type": "code",
   "execution_count": 11,
   "id": "7225591e",
   "metadata": {},
   "outputs": [],
   "source": [
    "# Layer를 순서대로 쌓아줄 객체 필요 Sequantial\n",
    "# 각 Layer는 Dense객체\n",
    "# 심층 신경망\n",
    "from tensorflow.keras import Sequential\n",
    "from tensorflow.keras.layers import Dense"
   ]
  },
  {
   "cell_type": "code",
   "execution_count": 19,
   "id": "a7159268",
   "metadata": {},
   "outputs": [
    {
     "name": "stdout",
     "output_type": "stream",
     "text": [
      "Model: \"sequential_1\"\n",
      "_________________________________________________________________\n",
      " Layer (type)                Output Shape              Param #   \n",
      "=================================================================\n",
      " dense_5 (Dense)             (None, 128)               1792      \n",
      "                                                                 \n",
      " dense_6 (Dense)             (None, 64)                8256      \n",
      "                                                                 \n",
      " dense_7 (Dense)             (None, 32)                2080      \n",
      "                                                                 \n",
      " dense_8 (Dense)             (None, 16)                528       \n",
      "                                                                 \n",
      " dense_9 (Dense)             (None, 1)                 17        \n",
      "                                                                 \n",
      "=================================================================\n",
      "Total params: 12,673\n",
      "Trainable params: 12,673\n",
      "Non-trainable params: 0\n",
      "_________________________________________________________________\n"
     ]
    }
   ],
   "source": [
    "# 심층 신경망\n",
    "from tensorflow.keras import Sequential\n",
    "from tensorflow.keras.layers import Dense\n",
    "def build_model(num_input=1):\n",
    "    model = Sequential()\n",
    "    model.add(Dense(128, activation='relu', input_dim=num_input))\n",
    "    model.add(Dense(64, activation='relu'))\n",
    "    model.add(Dense(32, activation='relu'))\n",
    "    model.add(Dense(16, activation='relu'))\n",
    "    model.add(Dense(1, activation='linear'))\n",
    "\n",
    "    model.compile(optimizer='adam', loss='mse', metrics=['mae'])\n",
    "\n",
    "    return model\n",
    "\n",
    "model = build_model(num_input=13)\n",
    "model.summary()"
   ]
  },
  {
   "cell_type": "code",
   "execution_count": 13,
   "id": "8f2b5e26",
   "metadata": {},
   "outputs": [],
   "source": [
    "#model.compile(optimizer='adam', loss='mse', metrics=['mae']) #각 설정"
   ]
  },
  {
   "cell_type": "code",
   "execution_count": 14,
   "id": "b23f6a5b",
   "metadata": {},
   "outputs": [
    {
     "name": "stdout",
     "output_type": "stream",
     "text": [
      "Model: \"sequential\"\n",
      "_________________________________________________________________\n",
      " Layer (type)                Output Shape              Param #   \n",
      "=================================================================\n",
      " dense (Dense)               (None, 128)               1792      \n",
      "                                                                 \n",
      " dense_1 (Dense)             (None, 64)                8256      \n",
      "                                                                 \n",
      " dense_2 (Dense)             (None, 32)                2080      \n",
      "                                                                 \n",
      " dense_3 (Dense)             (None, 16)                528       \n",
      "                                                                 \n",
      " dense_4 (Dense)             (None, 1)                 17        \n",
      "                                                                 \n",
      "=================================================================\n",
      "Total params: 12,673\n",
      "Trainable params: 12,673\n",
      "Non-trainable params: 0\n",
      "_________________________________________________________________\n"
     ]
    }
   ],
   "source": [
    "#model.summary()"
   ]
  },
  {
   "cell_type": "code",
   "execution_count": 15,
   "id": "ce7841dc",
   "metadata": {},
   "outputs": [
    {
     "name": "stdout",
     "output_type": "stream",
     "text": [
      "Epoch 1/70\n",
      "13/13 - 0s - loss: 571.8380 - mae: 22.0671 - 328ms/epoch - 25ms/step\n",
      "Epoch 2/70\n",
      "13/13 - 0s - loss: 513.1206 - mae: 20.6426 - 11ms/epoch - 846us/step\n",
      "Epoch 3/70\n",
      "13/13 - 0s - loss: 377.5822 - mae: 16.8682 - 14ms/epoch - 1ms/step\n",
      "Epoch 4/70\n",
      "13/13 - 0s - loss: 171.0150 - mae: 10.3085 - 22ms/epoch - 2ms/step\n",
      "Epoch 5/70\n",
      "13/13 - 0s - loss: 127.3497 - mae: 8.8411 - 20ms/epoch - 2ms/step\n",
      "Epoch 6/70\n",
      "13/13 - 0s - loss: 96.1962 - mae: 7.3188 - 23ms/epoch - 2ms/step\n",
      "Epoch 7/70\n",
      "13/13 - 0s - loss: 79.8968 - mae: 6.5477 - 21ms/epoch - 2ms/step\n",
      "Epoch 8/70\n",
      "13/13 - 0s - loss: 68.7614 - mae: 6.2117 - 21ms/epoch - 2ms/step\n",
      "Epoch 9/70\n",
      "13/13 - 0s - loss: 59.2914 - mae: 5.4601 - 13ms/epoch - 1ms/step\n",
      "Epoch 10/70\n",
      "13/13 - 0s - loss: 53.9126 - mae: 5.1872 - 23ms/epoch - 2ms/step\n",
      "Epoch 11/70\n",
      "13/13 - 0s - loss: 49.9918 - mae: 4.9905 - 18ms/epoch - 1ms/step\n",
      "Epoch 12/70\n",
      "13/13 - 0s - loss: 46.8824 - mae: 4.7975 - 16ms/epoch - 1ms/step\n",
      "Epoch 13/70\n",
      "13/13 - 0s - loss: 44.2971 - mae: 4.6172 - 19ms/epoch - 1ms/step\n",
      "Epoch 14/70\n",
      "13/13 - 0s - loss: 41.0921 - mae: 4.5746 - 15ms/epoch - 1ms/step\n",
      "Epoch 15/70\n",
      "13/13 - 0s - loss: 38.3496 - mae: 4.3055 - 16ms/epoch - 1ms/step\n",
      "Epoch 16/70\n",
      "13/13 - 0s - loss: 35.8720 - mae: 4.2917 - 24ms/epoch - 2ms/step\n",
      "Epoch 17/70\n",
      "13/13 - 0s - loss: 33.0442 - mae: 4.0160 - 11ms/epoch - 846us/step\n",
      "Epoch 18/70\n",
      "13/13 - 0s - loss: 30.4639 - mae: 3.8696 - 23ms/epoch - 2ms/step\n",
      "Epoch 19/70\n",
      "13/13 - 0s - loss: 28.5441 - mae: 3.8093 - 15ms/epoch - 1ms/step\n",
      "Epoch 20/70\n",
      "13/13 - 0s - loss: 26.6202 - mae: 3.5593 - 16ms/epoch - 1ms/step\n",
      "Epoch 21/70\n",
      "13/13 - 0s - loss: 24.3665 - mae: 3.3774 - 23ms/epoch - 2ms/step\n",
      "Epoch 22/70\n",
      "13/13 - 0s - loss: 22.8636 - mae: 3.3621 - 20ms/epoch - 2ms/step\n",
      "Epoch 23/70\n",
      "13/13 - 0s - loss: 22.4593 - mae: 3.1717 - 13ms/epoch - 1000us/step\n",
      "Epoch 24/70\n",
      "13/13 - 0s - loss: 20.8836 - mae: 3.0872 - 27ms/epoch - 2ms/step\n",
      "Epoch 25/70\n",
      "13/13 - 0s - loss: 20.1708 - mae: 3.0152 - 18ms/epoch - 1ms/step\n",
      "Epoch 26/70\n",
      "13/13 - 0s - loss: 19.5174 - mae: 2.9932 - 18ms/epoch - 1ms/step\n",
      "Epoch 27/70\n",
      "13/13 - 0s - loss: 19.2703 - mae: 2.9492 - 19ms/epoch - 1ms/step\n",
      "Epoch 28/70\n",
      "13/13 - 0s - loss: 19.0601 - mae: 2.9000 - 21ms/epoch - 2ms/step\n",
      "Epoch 29/70\n",
      "13/13 - 0s - loss: 19.2062 - mae: 3.0052 - 17ms/epoch - 1ms/step\n",
      "Epoch 30/70\n",
      "13/13 - 0s - loss: 17.9484 - mae: 2.8460 - 17ms/epoch - 1ms/step\n",
      "Epoch 31/70\n",
      "13/13 - 0s - loss: 17.7419 - mae: 2.8285 - 19ms/epoch - 1ms/step\n",
      "Epoch 32/70\n",
      "13/13 - 0s - loss: 17.6396 - mae: 2.7983 - 24ms/epoch - 2ms/step\n",
      "Epoch 33/70\n",
      "13/13 - 0s - loss: 17.2031 - mae: 2.7763 - 14ms/epoch - 1ms/step\n",
      "Epoch 34/70\n",
      "13/13 - 0s - loss: 16.8903 - mae: 2.7453 - 23ms/epoch - 2ms/step\n",
      "Epoch 35/70\n",
      "13/13 - 0s - loss: 16.6678 - mae: 2.7105 - 21ms/epoch - 2ms/step\n",
      "Epoch 36/70\n",
      "13/13 - 0s - loss: 16.7767 - mae: 2.7529 - 25ms/epoch - 2ms/step\n",
      "Epoch 37/70\n",
      "13/13 - 0s - loss: 16.7834 - mae: 2.7328 - 13ms/epoch - 1ms/step\n",
      "Epoch 38/70\n",
      "13/13 - 0s - loss: 16.7136 - mae: 2.7078 - 25ms/epoch - 2ms/step\n",
      "Epoch 39/70\n",
      "13/13 - 0s - loss: 16.1445 - mae: 2.6754 - 20ms/epoch - 2ms/step\n",
      "Epoch 40/70\n",
      "13/13 - 0s - loss: 15.9271 - mae: 2.6885 - 15ms/epoch - 1ms/step\n",
      "Epoch 41/70\n",
      "13/13 - 0s - loss: 15.5211 - mae: 2.6419 - 24ms/epoch - 2ms/step\n",
      "Epoch 42/70\n",
      "13/13 - 0s - loss: 15.5444 - mae: 2.6856 - 16ms/epoch - 1ms/step\n",
      "Epoch 43/70\n",
      "13/13 - 0s - loss: 16.4785 - mae: 2.7303 - 16ms/epoch - 1ms/step\n",
      "Epoch 44/70\n",
      "13/13 - 0s - loss: 15.2959 - mae: 2.6015 - 20ms/epoch - 2ms/step\n",
      "Epoch 45/70\n",
      "13/13 - 0s - loss: 14.9740 - mae: 2.5625 - 22ms/epoch - 2ms/step\n",
      "Epoch 46/70\n",
      "13/13 - 0s - loss: 14.7744 - mae: 2.5631 - 14ms/epoch - 1ms/step\n",
      "Epoch 47/70\n",
      "13/13 - 0s - loss: 14.5479 - mae: 2.5127 - 23ms/epoch - 2ms/step\n",
      "Epoch 48/70\n",
      "13/13 - 0s - loss: 14.4264 - mae: 2.5451 - 15ms/epoch - 1ms/step\n",
      "Epoch 49/70\n",
      "13/13 - 0s - loss: 14.2567 - mae: 2.5207 - 21ms/epoch - 2ms/step\n",
      "Epoch 50/70\n",
      "13/13 - 0s - loss: 14.0384 - mae: 2.5004 - 15ms/epoch - 1ms/step\n",
      "Epoch 51/70\n",
      "13/13 - 0s - loss: 13.7542 - mae: 2.5195 - 17ms/epoch - 1ms/step\n",
      "Epoch 52/70\n",
      "13/13 - 0s - loss: 14.4237 - mae: 2.5828 - 23ms/epoch - 2ms/step\n",
      "Epoch 53/70\n",
      "13/13 - 0s - loss: 14.2566 - mae: 2.5947 - 14ms/epoch - 1ms/step\n",
      "Epoch 54/70\n",
      "13/13 - 0s - loss: 13.8483 - mae: 2.4900 - 18ms/epoch - 1ms/step\n",
      "Epoch 55/70\n",
      "13/13 - 0s - loss: 13.6231 - mae: 2.5062 - 26ms/epoch - 2ms/step\n",
      "Epoch 56/70\n",
      "13/13 - 0s - loss: 13.4027 - mae: 2.5011 - 26ms/epoch - 2ms/step\n",
      "Epoch 57/70\n",
      "13/13 - 0s - loss: 13.7656 - mae: 2.6121 - 17ms/epoch - 1ms/step\n",
      "Epoch 58/70\n",
      "13/13 - 0s - loss: 13.2696 - mae: 2.4934 - 13ms/epoch - 1ms/step\n",
      "Epoch 59/70\n",
      "13/13 - 0s - loss: 12.6898 - mae: 2.4048 - 17ms/epoch - 1ms/step\n",
      "Epoch 60/70\n",
      "13/13 - 0s - loss: 12.6294 - mae: 2.4555 - 18ms/epoch - 1ms/step\n",
      "Epoch 61/70\n",
      "13/13 - 0s - loss: 12.4287 - mae: 2.3826 - 12ms/epoch - 923us/step\n",
      "Epoch 62/70\n",
      "13/13 - 0s - loss: 12.1554 - mae: 2.3613 - 21ms/epoch - 2ms/step\n",
      "Epoch 63/70\n",
      "13/13 - 0s - loss: 12.1402 - mae: 2.3752 - 18ms/epoch - 1ms/step\n",
      "Epoch 64/70\n",
      "13/13 - 0s - loss: 12.5782 - mae: 2.3821 - 15ms/epoch - 1ms/step\n",
      "Epoch 65/70\n",
      "13/13 - 0s - loss: 12.8393 - mae: 2.4920 - 19ms/epoch - 1ms/step\n",
      "Epoch 66/70\n",
      "13/13 - 0s - loss: 12.2335 - mae: 2.4111 - 16ms/epoch - 1ms/step\n",
      "Epoch 67/70\n",
      "13/13 - 0s - loss: 11.9525 - mae: 2.3006 - 14ms/epoch - 1ms/step\n",
      "Epoch 68/70\n",
      "13/13 - 0s - loss: 11.4986 - mae: 2.3437 - 13ms/epoch - 1000us/step\n",
      "Epoch 69/70\n",
      "13/13 - 0s - loss: 11.5797 - mae: 2.3127 - 25ms/epoch - 2ms/step\n",
      "Epoch 70/70\n",
      "13/13 - 0s - loss: 11.0753 - mae: 2.3163 - 20ms/epoch - 2ms/step\n"
     ]
    },
    {
     "data": {
      "text/plain": [
       "<keras.callbacks.History at 0x1969d9502e0>"
      ]
     },
     "execution_count": 15,
     "metadata": {},
     "output_type": "execute_result"
    }
   ],
   "source": [
    "history = model.fit(X_train, y_train, epochs=70, batch_size=32, verbose=2)\n",
    "history"
   ]
  },
  {
   "cell_type": "code",
   "execution_count": 16,
   "id": "2e4450b5",
   "metadata": {},
   "outputs": [
    {
     "name": "stdout",
     "output_type": "stream",
     "text": [
      "4/4 [==============================] - 0s 1000us/step - loss: 13.8940 - mae: 2.6401\n"
     ]
    },
    {
     "data": {
      "text/plain": [
       "[13.893990516662598, 2.6400983333587646]"
      ]
     },
     "execution_count": 16,
     "metadata": {},
     "output_type": "execute_result"
    }
   ],
   "source": [
    "model.evaluate(X_test, y_test)"
   ]
  },
  {
   "cell_type": "code",
   "execution_count": 17,
   "id": "e882e14c",
   "metadata": {},
   "outputs": [
    {
     "data": {
      "text/plain": [
       "array([[22.390528 ],\n",
       "       [15.648002 ],\n",
       "       [ 7.2776327],\n",
       "       [26.255415 ],\n",
       "       [30.444366 ],\n",
       "       [20.259653 ],\n",
       "       [18.180582 ],\n",
       "       [44.90206  ],\n",
       "       [32.955765 ],\n",
       "       [22.867691 ],\n",
       "       [22.88555  ],\n",
       "       [20.14346  ],\n",
       "       [20.256071 ],\n",
       "       [19.665956 ],\n",
       "       [35.15965  ],\n",
       "       [44.84174  ],\n",
       "       [18.467812 ],\n",
       "       [23.753937 ],\n",
       "       [23.381643 ],\n",
       "       [22.190744 ],\n",
       "       [29.601635 ],\n",
       "       [13.16108  ],\n",
       "       [21.199009 ],\n",
       "       [10.300588 ],\n",
       "       [22.455372 ],\n",
       "       [19.711422 ],\n",
       "       [19.674433 ],\n",
       "       [13.196213 ],\n",
       "       [22.472025 ],\n",
       "       [43.351025 ],\n",
       "       [24.274755 ],\n",
       "       [26.49669  ],\n",
       "       [13.287337 ],\n",
       "       [32.106556 ],\n",
       "       [51.66129  ],\n",
       "       [13.185548 ],\n",
       "       [19.429491 ],\n",
       "       [45.123676 ],\n",
       "       [14.48315  ],\n",
       "       [23.30504  ],\n",
       "       [16.242104 ],\n",
       "       [24.580818 ],\n",
       "       [20.296545 ],\n",
       "       [34.74255  ],\n",
       "       [16.853636 ],\n",
       "       [15.49768  ],\n",
       "       [17.632334 ],\n",
       "       [22.09181  ],\n",
       "       [42.62897  ],\n",
       "       [20.7977   ],\n",
       "       [26.279797 ],\n",
       "       [19.653276 ],\n",
       "       [13.041865 ],\n",
       "       [23.369114 ],\n",
       "       [13.563329 ],\n",
       "       [16.629969 ],\n",
       "       [20.683119 ],\n",
       "       [17.880836 ],\n",
       "       [14.621152 ],\n",
       "       [17.03509  ],\n",
       "       [17.128763 ],\n",
       "       [29.429502 ],\n",
       "       [19.943007 ],\n",
       "       [16.45679  ],\n",
       "       [18.057474 ],\n",
       "       [23.424389 ],\n",
       "       [23.317774 ],\n",
       "       [11.445003 ],\n",
       "       [21.014181 ],\n",
       "       [45.572853 ],\n",
       "       [14.182273 ],\n",
       "       [10.790383 ],\n",
       "       [20.576557 ],\n",
       "       [19.135756 ],\n",
       "       [16.810478 ],\n",
       "       [12.181299 ],\n",
       "       [19.298557 ],\n",
       "       [ 9.804851 ],\n",
       "       [21.113237 ],\n",
       "       [28.954182 ],\n",
       "       [25.105722 ],\n",
       "       [20.644773 ],\n",
       "       [33.3903   ],\n",
       "       [12.83125  ],\n",
       "       [11.603141 ],\n",
       "       [20.563276 ],\n",
       "       [24.626013 ],\n",
       "       [15.990676 ],\n",
       "       [21.745409 ],\n",
       "       [19.74703  ],\n",
       "       [15.713878 ],\n",
       "       [17.97923  ],\n",
       "       [30.654531 ],\n",
       "       [14.257224 ],\n",
       "       [28.675306 ],\n",
       "       [18.533556 ],\n",
       "       [21.142464 ],\n",
       "       [13.171891 ],\n",
       "       [33.176334 ],\n",
       "       [13.90782  ],\n",
       "       [33.366722 ],\n",
       "       [21.42469  ]], dtype=float32)"
      ]
     },
     "execution_count": 17,
     "metadata": {},
     "output_type": "execute_result"
    }
   ],
   "source": [
    "pred_test = model.predict(X_test)\n",
    "pred_test"
   ]
  },
  {
   "cell_type": "code",
   "execution_count": 20,
   "id": "93e71f73",
   "metadata": {},
   "outputs": [
    {
     "ename": "ValueError",
     "evalue": "x and y must have same first dimension, but have shapes (200,) and (70,)",
     "output_type": "error",
     "traceback": [
      "\u001b[1;31m---------------------------------------------------------------------------\u001b[0m",
      "\u001b[1;31mValueError\u001b[0m                                Traceback (most recent call last)",
      "\u001b[1;32m<ipython-input-20-62fe8991847e>\u001b[0m in \u001b[0;36m<module>\u001b[1;34m\u001b[0m\n\u001b[0;32m     13\u001b[0m     \u001b[0mplt\u001b[0m\u001b[1;33m.\u001b[0m\u001b[0mshow\u001b[0m\u001b[1;33m(\u001b[0m\u001b[1;33m)\u001b[0m\u001b[1;33m\u001b[0m\u001b[1;33m\u001b[0m\u001b[0m\n\u001b[0;32m     14\u001b[0m \u001b[1;33m\u001b[0m\u001b[0m\n\u001b[1;32m---> 15\u001b[1;33m \u001b[0mplot_loss_curve\u001b[0m\u001b[1;33m(\u001b[0m\u001b[0mtotal_epoch\u001b[0m\u001b[1;33m=\u001b[0m\u001b[1;36m200\u001b[0m\u001b[1;33m,\u001b[0m \u001b[0mstart\u001b[0m\u001b[1;33m=\u001b[0m\u001b[1;36m1\u001b[0m\u001b[1;33m)\u001b[0m\u001b[1;33m\u001b[0m\u001b[1;33m\u001b[0m\u001b[0m\n\u001b[0m",
      "\u001b[1;32m<ipython-input-20-62fe8991847e>\u001b[0m in \u001b[0;36mplot_loss_curve\u001b[1;34m(total_epoch, start)\u001b[0m\n\u001b[0;32m      2\u001b[0m \u001b[1;32mdef\u001b[0m \u001b[0mplot_loss_curve\u001b[0m\u001b[1;33m(\u001b[0m\u001b[0mtotal_epoch\u001b[0m\u001b[1;33m=\u001b[0m\u001b[1;36m10\u001b[0m\u001b[1;33m,\u001b[0m \u001b[0mstart\u001b[0m\u001b[1;33m=\u001b[0m\u001b[1;36m1\u001b[0m\u001b[1;33m)\u001b[0m\u001b[1;33m:\u001b[0m\u001b[1;33m\u001b[0m\u001b[1;33m\u001b[0m\u001b[0m\n\u001b[0;32m      3\u001b[0m     \u001b[0mplt\u001b[0m\u001b[1;33m.\u001b[0m\u001b[0mfigure\u001b[0m\u001b[1;33m(\u001b[0m\u001b[0mfigsize\u001b[0m\u001b[1;33m=\u001b[0m\u001b[1;33m(\u001b[0m\u001b[1;36m5\u001b[0m\u001b[1;33m,\u001b[0m \u001b[1;36m5\u001b[0m\u001b[1;33m)\u001b[0m\u001b[1;33m)\u001b[0m\u001b[1;33m\u001b[0m\u001b[1;33m\u001b[0m\u001b[0m\n\u001b[1;32m----> 4\u001b[1;33m     plt.plot(range(start, total_epoch + 1), \n\u001b[0m\u001b[0;32m      5\u001b[0m              \u001b[0mhistory\u001b[0m\u001b[1;33m.\u001b[0m\u001b[0mhistory\u001b[0m\u001b[1;33m[\u001b[0m\u001b[1;34m'loss'\u001b[0m\u001b[1;33m]\u001b[0m\u001b[1;33m[\u001b[0m\u001b[0mstart\u001b[0m\u001b[1;33m-\u001b[0m\u001b[1;36m1\u001b[0m\u001b[1;33m:\u001b[0m\u001b[0mtotal_epoch\u001b[0m\u001b[1;33m]\u001b[0m\u001b[1;33m,\u001b[0m\u001b[1;33m\u001b[0m\u001b[1;33m\u001b[0m\u001b[0m\n\u001b[0;32m      6\u001b[0m              label='Train')\n",
      "\u001b[1;32m~\\anaconda3\\lib\\site-packages\\matplotlib\\pyplot.py\u001b[0m in \u001b[0;36mplot\u001b[1;34m(scalex, scaley, data, *args, **kwargs)\u001b[0m\n\u001b[0;32m   2838\u001b[0m \u001b[1;33m@\u001b[0m\u001b[0m_copy_docstring_and_deprecators\u001b[0m\u001b[1;33m(\u001b[0m\u001b[0mAxes\u001b[0m\u001b[1;33m.\u001b[0m\u001b[0mplot\u001b[0m\u001b[1;33m)\u001b[0m\u001b[1;33m\u001b[0m\u001b[1;33m\u001b[0m\u001b[0m\n\u001b[0;32m   2839\u001b[0m \u001b[1;32mdef\u001b[0m \u001b[0mplot\u001b[0m\u001b[1;33m(\u001b[0m\u001b[1;33m*\u001b[0m\u001b[0margs\u001b[0m\u001b[1;33m,\u001b[0m \u001b[0mscalex\u001b[0m\u001b[1;33m=\u001b[0m\u001b[1;32mTrue\u001b[0m\u001b[1;33m,\u001b[0m \u001b[0mscaley\u001b[0m\u001b[1;33m=\u001b[0m\u001b[1;32mTrue\u001b[0m\u001b[1;33m,\u001b[0m \u001b[0mdata\u001b[0m\u001b[1;33m=\u001b[0m\u001b[1;32mNone\u001b[0m\u001b[1;33m,\u001b[0m \u001b[1;33m**\u001b[0m\u001b[0mkwargs\u001b[0m\u001b[1;33m)\u001b[0m\u001b[1;33m:\u001b[0m\u001b[1;33m\u001b[0m\u001b[1;33m\u001b[0m\u001b[0m\n\u001b[1;32m-> 2840\u001b[1;33m     return gca().plot(\n\u001b[0m\u001b[0;32m   2841\u001b[0m         \u001b[1;33m*\u001b[0m\u001b[0margs\u001b[0m\u001b[1;33m,\u001b[0m \u001b[0mscalex\u001b[0m\u001b[1;33m=\u001b[0m\u001b[0mscalex\u001b[0m\u001b[1;33m,\u001b[0m \u001b[0mscaley\u001b[0m\u001b[1;33m=\u001b[0m\u001b[0mscaley\u001b[0m\u001b[1;33m,\u001b[0m\u001b[1;33m\u001b[0m\u001b[1;33m\u001b[0m\u001b[0m\n\u001b[0;32m   2842\u001b[0m         **({\"data\": data} if data is not None else {}), **kwargs)\n",
      "\u001b[1;32m~\\anaconda3\\lib\\site-packages\\matplotlib\\axes\\_axes.py\u001b[0m in \u001b[0;36mplot\u001b[1;34m(self, scalex, scaley, data, *args, **kwargs)\u001b[0m\n\u001b[0;32m   1741\u001b[0m         \"\"\"\n\u001b[0;32m   1742\u001b[0m         \u001b[0mkwargs\u001b[0m \u001b[1;33m=\u001b[0m \u001b[0mcbook\u001b[0m\u001b[1;33m.\u001b[0m\u001b[0mnormalize_kwargs\u001b[0m\u001b[1;33m(\u001b[0m\u001b[0mkwargs\u001b[0m\u001b[1;33m,\u001b[0m \u001b[0mmlines\u001b[0m\u001b[1;33m.\u001b[0m\u001b[0mLine2D\u001b[0m\u001b[1;33m)\u001b[0m\u001b[1;33m\u001b[0m\u001b[1;33m\u001b[0m\u001b[0m\n\u001b[1;32m-> 1743\u001b[1;33m         \u001b[0mlines\u001b[0m \u001b[1;33m=\u001b[0m \u001b[1;33m[\u001b[0m\u001b[1;33m*\u001b[0m\u001b[0mself\u001b[0m\u001b[1;33m.\u001b[0m\u001b[0m_get_lines\u001b[0m\u001b[1;33m(\u001b[0m\u001b[1;33m*\u001b[0m\u001b[0margs\u001b[0m\u001b[1;33m,\u001b[0m \u001b[0mdata\u001b[0m\u001b[1;33m=\u001b[0m\u001b[0mdata\u001b[0m\u001b[1;33m,\u001b[0m \u001b[1;33m**\u001b[0m\u001b[0mkwargs\u001b[0m\u001b[1;33m)\u001b[0m\u001b[1;33m]\u001b[0m\u001b[1;33m\u001b[0m\u001b[1;33m\u001b[0m\u001b[0m\n\u001b[0m\u001b[0;32m   1744\u001b[0m         \u001b[1;32mfor\u001b[0m \u001b[0mline\u001b[0m \u001b[1;32min\u001b[0m \u001b[0mlines\u001b[0m\u001b[1;33m:\u001b[0m\u001b[1;33m\u001b[0m\u001b[1;33m\u001b[0m\u001b[0m\n\u001b[0;32m   1745\u001b[0m             \u001b[0mself\u001b[0m\u001b[1;33m.\u001b[0m\u001b[0madd_line\u001b[0m\u001b[1;33m(\u001b[0m\u001b[0mline\u001b[0m\u001b[1;33m)\u001b[0m\u001b[1;33m\u001b[0m\u001b[1;33m\u001b[0m\u001b[0m\n",
      "\u001b[1;32m~\\anaconda3\\lib\\site-packages\\matplotlib\\axes\\_base.py\u001b[0m in \u001b[0;36m__call__\u001b[1;34m(self, data, *args, **kwargs)\u001b[0m\n\u001b[0;32m    271\u001b[0m                 \u001b[0mthis\u001b[0m \u001b[1;33m+=\u001b[0m \u001b[0margs\u001b[0m\u001b[1;33m[\u001b[0m\u001b[1;36m0\u001b[0m\u001b[1;33m]\u001b[0m\u001b[1;33m,\u001b[0m\u001b[1;33m\u001b[0m\u001b[1;33m\u001b[0m\u001b[0m\n\u001b[0;32m    272\u001b[0m                 \u001b[0margs\u001b[0m \u001b[1;33m=\u001b[0m \u001b[0margs\u001b[0m\u001b[1;33m[\u001b[0m\u001b[1;36m1\u001b[0m\u001b[1;33m:\u001b[0m\u001b[1;33m]\u001b[0m\u001b[1;33m\u001b[0m\u001b[1;33m\u001b[0m\u001b[0m\n\u001b[1;32m--> 273\u001b[1;33m             \u001b[1;32myield\u001b[0m \u001b[1;32mfrom\u001b[0m \u001b[0mself\u001b[0m\u001b[1;33m.\u001b[0m\u001b[0m_plot_args\u001b[0m\u001b[1;33m(\u001b[0m\u001b[0mthis\u001b[0m\u001b[1;33m,\u001b[0m \u001b[0mkwargs\u001b[0m\u001b[1;33m)\u001b[0m\u001b[1;33m\u001b[0m\u001b[1;33m\u001b[0m\u001b[0m\n\u001b[0m\u001b[0;32m    274\u001b[0m \u001b[1;33m\u001b[0m\u001b[0m\n\u001b[0;32m    275\u001b[0m     \u001b[1;32mdef\u001b[0m \u001b[0mget_next_color\u001b[0m\u001b[1;33m(\u001b[0m\u001b[0mself\u001b[0m\u001b[1;33m)\u001b[0m\u001b[1;33m:\u001b[0m\u001b[1;33m\u001b[0m\u001b[1;33m\u001b[0m\u001b[0m\n",
      "\u001b[1;32m~\\anaconda3\\lib\\site-packages\\matplotlib\\axes\\_base.py\u001b[0m in \u001b[0;36m_plot_args\u001b[1;34m(self, tup, kwargs)\u001b[0m\n\u001b[0;32m    397\u001b[0m \u001b[1;33m\u001b[0m\u001b[0m\n\u001b[0;32m    398\u001b[0m         \u001b[1;32mif\u001b[0m \u001b[0mx\u001b[0m\u001b[1;33m.\u001b[0m\u001b[0mshape\u001b[0m\u001b[1;33m[\u001b[0m\u001b[1;36m0\u001b[0m\u001b[1;33m]\u001b[0m \u001b[1;33m!=\u001b[0m \u001b[0my\u001b[0m\u001b[1;33m.\u001b[0m\u001b[0mshape\u001b[0m\u001b[1;33m[\u001b[0m\u001b[1;36m0\u001b[0m\u001b[1;33m]\u001b[0m\u001b[1;33m:\u001b[0m\u001b[1;33m\u001b[0m\u001b[1;33m\u001b[0m\u001b[0m\n\u001b[1;32m--> 399\u001b[1;33m             raise ValueError(f\"x and y must have same first dimension, but \"\n\u001b[0m\u001b[0;32m    400\u001b[0m                              f\"have shapes {x.shape} and {y.shape}\")\n\u001b[0;32m    401\u001b[0m         \u001b[1;32mif\u001b[0m \u001b[0mx\u001b[0m\u001b[1;33m.\u001b[0m\u001b[0mndim\u001b[0m \u001b[1;33m>\u001b[0m \u001b[1;36m2\u001b[0m \u001b[1;32mor\u001b[0m \u001b[0my\u001b[0m\u001b[1;33m.\u001b[0m\u001b[0mndim\u001b[0m \u001b[1;33m>\u001b[0m \u001b[1;36m2\u001b[0m\u001b[1;33m:\u001b[0m\u001b[1;33m\u001b[0m\u001b[1;33m\u001b[0m\u001b[0m\n",
      "\u001b[1;31mValueError\u001b[0m: x and y must have same first dimension, but have shapes (200,) and (70,)"
     ]
    },
    {
     "data": {
      "image/png": "[encoded data removed]",
      "text/plain": [
       "<Figure size 360x360 with 1 Axes>"
      ]
     },
     "metadata": {
      "needs_background": "light"
     },
     "output_type": "display_data"
    }
   ],
   "source": [
    "import matplotlib.pyplot as plt\n",
    "\n",
    "def plot_loss_curve(total_epoch=10, start=1):\n",
    "    plt.figure(figsize=(5, 5))\n",
    "    plt.plot(range(start, total_epoch + 1), \n",
    "             history.history['loss'][start-1:total_epoch], \n",
    "             label='Train')\n",
    "    plt.plot(range(start, total_epoch + 1), \n",
    "             history.history['val_loss'][start-1:total_epoch], \n",
    "             label='Validation')\n",
    "    plt.xlabel('Epochs')\n",
    "    plt.ylabel('mse')\n",
    "    plt.legend()\n",
    "    plt.show()\n",
    "\n",
    "plot_loss_curve(total_epoch=200, start=1)"
   ]
  },
  {
   "cell_type": "code",
   "execution_count": null,
   "id": "ac693a20",
   "metadata": {},
   "outputs": [],
   "source": [
    "plot_loss_curve(total_epoch=200, start=20)"
   ]
  }
 ],
 "metadata": {
  "kernelspec": {
   "display_name": "Python 3",
   "language": "python",
   "name": "python3"
  },
  "language_info": {
   "codemirror_mode": {
    "name": "ipython",
    "version": 3
   },
   "file_extension": ".py",
   "mimetype": "text/x-python",
   "name": "python",
   "nbconvert_exporter": "python",
   "pygments_lexer": "ipython3",
   "version": "3.8.8"
  }
 },
 "nbformat": 4,
 "nbformat_minor": 5
}
