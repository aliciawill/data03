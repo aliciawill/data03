{
 "cells": [
  {
   "cell_type": "code",
   "execution_count": 1,
   "id": "95ebf423",
   "metadata": {},
   "outputs": [
    {
     "name": "stdout",
     "output_type": "stream",
     "text": [
      "시드 고정:  12\n"
     ]
    }
   ],
   "source": [
    "# 필수 라이브러리\n",
    "import pandas as pd\n",
    "import numpy as np\n",
    "import random\n",
    "import tensorflow as tf\n",
    "\n",
    "# 랜덤 시드 고정\n",
    "SEED=12\n",
    "random.seed(SEED)\n",
    "np.random.seed(SEED)\n",
    "tf.random.set_seed(SEED)  \n",
    "print(\"시드 고정: \", SEED)"
   ]
  },
  {
   "cell_type": "code",
   "execution_count": 2,
   "id": "c3b009e4",
   "metadata": {},
   "outputs": [
    {
     "data": {
      "text/plain": [
       "(5497, 14)"
      ]
     },
     "execution_count": 2,
     "metadata": {},
     "output_type": "execute_result"
    }
   ],
   "source": [
    "data = pd.read_csv('data/train.csv')\n",
    "data.shape"
   ]
  },
  {
   "cell_type": "code",
   "execution_count": 3,
   "id": "cf362216",
   "metadata": {},
   "outputs": [
    {
     "data": {
      "text/html": [
       "<div>\n",
       "<style scoped>\n",
       "    .dataframe tbody tr th:only-of-type {\n",
       "        vertical-align: middle;\n",
       "    }\n",
       "\n",
       "    .dataframe tbody tr th {\n",
       "        vertical-align: top;\n",
       "    }\n",
       "\n",
       "    .dataframe thead th {\n",
       "        text-align: right;\n",
       "    }\n",
       "</style>\n",
       "<table border=\"1\" class=\"dataframe\">\n",
       "  <thead>\n",
       "    <tr style=\"text-align: right;\">\n",
       "      <th></th>\n",
       "      <th>index</th>\n",
       "      <th>quality</th>\n",
       "      <th>fixed acidity</th>\n",
       "      <th>volatile acidity</th>\n",
       "      <th>citric acid</th>\n",
       "      <th>residual sugar</th>\n",
       "      <th>chlorides</th>\n",
       "      <th>free sulfur dioxide</th>\n",
       "      <th>total sulfur dioxide</th>\n",
       "      <th>density</th>\n",
       "      <th>pH</th>\n",
       "      <th>sulphates</th>\n",
       "      <th>alcohol</th>\n",
       "      <th>type</th>\n",
       "    </tr>\n",
       "  </thead>\n",
       "  <tbody>\n",
       "    <tr>\n",
       "      <th>0</th>\n",
       "      <td>0</td>\n",
       "      <td>5</td>\n",
       "      <td>5.6</td>\n",
       "      <td>0.695</td>\n",
       "      <td>0.06</td>\n",
       "      <td>6.8</td>\n",
       "      <td>0.042</td>\n",
       "      <td>9.0</td>\n",
       "      <td>84.0</td>\n",
       "      <td>0.99432</td>\n",
       "      <td>3.44</td>\n",
       "      <td>0.44</td>\n",
       "      <td>10.2</td>\n",
       "      <td>white</td>\n",
       "    </tr>\n",
       "    <tr>\n",
       "      <th>1</th>\n",
       "      <td>1</td>\n",
       "      <td>5</td>\n",
       "      <td>8.8</td>\n",
       "      <td>0.610</td>\n",
       "      <td>0.14</td>\n",
       "      <td>2.4</td>\n",
       "      <td>0.067</td>\n",
       "      <td>10.0</td>\n",
       "      <td>42.0</td>\n",
       "      <td>0.99690</td>\n",
       "      <td>3.19</td>\n",
       "      <td>0.59</td>\n",
       "      <td>9.5</td>\n",
       "      <td>red</td>\n",
       "    </tr>\n",
       "    <tr>\n",
       "      <th>2</th>\n",
       "      <td>2</td>\n",
       "      <td>5</td>\n",
       "      <td>7.9</td>\n",
       "      <td>0.210</td>\n",
       "      <td>0.39</td>\n",
       "      <td>2.0</td>\n",
       "      <td>0.057</td>\n",
       "      <td>21.0</td>\n",
       "      <td>138.0</td>\n",
       "      <td>0.99176</td>\n",
       "      <td>3.05</td>\n",
       "      <td>0.52</td>\n",
       "      <td>10.9</td>\n",
       "      <td>white</td>\n",
       "    </tr>\n",
       "    <tr>\n",
       "      <th>3</th>\n",
       "      <td>3</td>\n",
       "      <td>6</td>\n",
       "      <td>7.0</td>\n",
       "      <td>0.210</td>\n",
       "      <td>0.31</td>\n",
       "      <td>6.0</td>\n",
       "      <td>0.046</td>\n",
       "      <td>29.0</td>\n",
       "      <td>108.0</td>\n",
       "      <td>0.99390</td>\n",
       "      <td>3.26</td>\n",
       "      <td>0.50</td>\n",
       "      <td>10.8</td>\n",
       "      <td>white</td>\n",
       "    </tr>\n",
       "    <tr>\n",
       "      <th>4</th>\n",
       "      <td>4</td>\n",
       "      <td>6</td>\n",
       "      <td>7.8</td>\n",
       "      <td>0.400</td>\n",
       "      <td>0.26</td>\n",
       "      <td>9.5</td>\n",
       "      <td>0.059</td>\n",
       "      <td>32.0</td>\n",
       "      <td>178.0</td>\n",
       "      <td>0.99550</td>\n",
       "      <td>3.04</td>\n",
       "      <td>0.43</td>\n",
       "      <td>10.9</td>\n",
       "      <td>white</td>\n",
       "    </tr>\n",
       "    <tr>\n",
       "      <th>...</th>\n",
       "      <td>...</td>\n",
       "      <td>...</td>\n",
       "      <td>...</td>\n",
       "      <td>...</td>\n",
       "      <td>...</td>\n",
       "      <td>...</td>\n",
       "      <td>...</td>\n",
       "      <td>...</td>\n",
       "      <td>...</td>\n",
       "      <td>...</td>\n",
       "      <td>...</td>\n",
       "      <td>...</td>\n",
       "      <td>...</td>\n",
       "      <td>...</td>\n",
       "    </tr>\n",
       "    <tr>\n",
       "      <th>5492</th>\n",
       "      <td>5492</td>\n",
       "      <td>5</td>\n",
       "      <td>7.7</td>\n",
       "      <td>0.150</td>\n",
       "      <td>0.29</td>\n",
       "      <td>1.3</td>\n",
       "      <td>0.029</td>\n",
       "      <td>10.0</td>\n",
       "      <td>64.0</td>\n",
       "      <td>0.99320</td>\n",
       "      <td>3.35</td>\n",
       "      <td>0.39</td>\n",
       "      <td>10.1</td>\n",
       "      <td>white</td>\n",
       "    </tr>\n",
       "    <tr>\n",
       "      <th>5493</th>\n",
       "      <td>5493</td>\n",
       "      <td>6</td>\n",
       "      <td>6.3</td>\n",
       "      <td>0.180</td>\n",
       "      <td>0.36</td>\n",
       "      <td>1.2</td>\n",
       "      <td>0.034</td>\n",
       "      <td>26.0</td>\n",
       "      <td>111.0</td>\n",
       "      <td>0.99074</td>\n",
       "      <td>3.16</td>\n",
       "      <td>0.51</td>\n",
       "      <td>11.0</td>\n",
       "      <td>white</td>\n",
       "    </tr>\n",
       "    <tr>\n",
       "      <th>5494</th>\n",
       "      <td>5494</td>\n",
       "      <td>7</td>\n",
       "      <td>7.8</td>\n",
       "      <td>0.150</td>\n",
       "      <td>0.34</td>\n",
       "      <td>1.1</td>\n",
       "      <td>0.035</td>\n",
       "      <td>31.0</td>\n",
       "      <td>93.0</td>\n",
       "      <td>0.99096</td>\n",
       "      <td>3.07</td>\n",
       "      <td>0.72</td>\n",
       "      <td>11.3</td>\n",
       "      <td>white</td>\n",
       "    </tr>\n",
       "    <tr>\n",
       "      <th>5495</th>\n",
       "      <td>5495</td>\n",
       "      <td>5</td>\n",
       "      <td>6.6</td>\n",
       "      <td>0.410</td>\n",
       "      <td>0.31</td>\n",
       "      <td>1.6</td>\n",
       "      <td>0.042</td>\n",
       "      <td>18.0</td>\n",
       "      <td>101.0</td>\n",
       "      <td>0.99195</td>\n",
       "      <td>3.13</td>\n",
       "      <td>0.41</td>\n",
       "      <td>10.5</td>\n",
       "      <td>white</td>\n",
       "    </tr>\n",
       "    <tr>\n",
       "      <th>5496</th>\n",
       "      <td>5496</td>\n",
       "      <td>6</td>\n",
       "      <td>7.0</td>\n",
       "      <td>0.350</td>\n",
       "      <td>0.17</td>\n",
       "      <td>1.1</td>\n",
       "      <td>0.049</td>\n",
       "      <td>7.0</td>\n",
       "      <td>119.0</td>\n",
       "      <td>0.99297</td>\n",
       "      <td>3.13</td>\n",
       "      <td>0.36</td>\n",
       "      <td>9.7</td>\n",
       "      <td>white</td>\n",
       "    </tr>\n",
       "  </tbody>\n",
       "</table>\n",
       "<p>5497 rows × 14 columns</p>\n",
       "</div>"
      ],
      "text/plain": [
       "      index  quality  fixed acidity  volatile acidity  citric acid  \\\n",
       "0         0        5            5.6             0.695         0.06   \n",
       "1         1        5            8.8             0.610         0.14   \n",
       "2         2        5            7.9             0.210         0.39   \n",
       "3         3        6            7.0             0.210         0.31   \n",
       "4         4        6            7.8             0.400         0.26   \n",
       "...     ...      ...            ...               ...          ...   \n",
       "5492   5492        5            7.7             0.150         0.29   \n",
       "5493   5493        6            6.3             0.180         0.36   \n",
       "5494   5494        7            7.8             0.150         0.34   \n",
       "5495   5495        5            6.6             0.410         0.31   \n",
       "5496   5496        6            7.0             0.350         0.17   \n",
       "\n",
       "      residual sugar  chlorides  free sulfur dioxide  total sulfur dioxide  \\\n",
       "0                6.8      0.042                  9.0                  84.0   \n",
       "1                2.4      0.067                 10.0                  42.0   \n",
       "2                2.0      0.057                 21.0                 138.0   \n",
       "3                6.0      0.046                 29.0                 108.0   \n",
       "4                9.5      0.059                 32.0                 178.0   \n",
       "...              ...        ...                  ...                   ...   \n",
       "5492             1.3      0.029                 10.0                  64.0   \n",
       "5493             1.2      0.034                 26.0                 111.0   \n",
       "5494             1.1      0.035                 31.0                  93.0   \n",
       "5495             1.6      0.042                 18.0                 101.0   \n",
       "5496             1.1      0.049                  7.0                 119.0   \n",
       "\n",
       "      density    pH  sulphates  alcohol   type  \n",
       "0     0.99432  3.44       0.44     10.2  white  \n",
       "1     0.99690  3.19       0.59      9.5    red  \n",
       "2     0.99176  3.05       0.52     10.9  white  \n",
       "3     0.99390  3.26       0.50     10.8  white  \n",
       "4     0.99550  3.04       0.43     10.9  white  \n",
       "...       ...   ...        ...      ...    ...  \n",
       "5492  0.99320  3.35       0.39     10.1  white  \n",
       "5493  0.99074  3.16       0.51     11.0  white  \n",
       "5494  0.99096  3.07       0.72     11.3  white  \n",
       "5495  0.99195  3.13       0.41     10.5  white  \n",
       "5496  0.99297  3.13       0.36      9.7  white  \n",
       "\n",
       "[5497 rows x 14 columns]"
      ]
     },
     "execution_count": 3,
     "metadata": {},
     "output_type": "execute_result"
    }
   ],
   "source": [
    "data"
   ]
  },
  {
   "cell_type": "code",
   "execution_count": 4,
   "id": "8ec9d00d",
   "metadata": {},
   "outputs": [
    {
     "data": {
      "text/plain": [
       "0       5\n",
       "1       5\n",
       "2       5\n",
       "3       6\n",
       "4       6\n",
       "       ..\n",
       "5492    5\n",
       "5493    6\n",
       "5494    7\n",
       "5495    5\n",
       "5496    6\n",
       "Name: quality, Length: 5497, dtype: int64"
      ]
     },
     "execution_count": 4,
     "metadata": {},
     "output_type": "execute_result"
    }
   ],
   "source": [
    "data['quality']"
   ]
  },
  {
   "cell_type": "code",
   "execution_count": 5,
   "id": "5d4ad602",
   "metadata": {},
   "outputs": [
    {
     "data": {
      "text/plain": [
       "0       white\n",
       "1         red\n",
       "2       white\n",
       "3       white\n",
       "4       white\n",
       "        ...  \n",
       "5492    white\n",
       "5493    white\n",
       "5494    white\n",
       "5495    white\n",
       "5496    white\n",
       "Name: type, Length: 5497, dtype: object"
      ]
     },
     "execution_count": 5,
     "metadata": {},
     "output_type": "execute_result"
    }
   ],
   "source": [
    "data['type']"
   ]
  },
  {
   "cell_type": "code",
   "execution_count": 6,
   "id": "613c0592",
   "metadata": {},
   "outputs": [
    {
     "data": {
      "text/plain": [
       "1    4159\n",
       "0    1338\n",
       "Name: type, dtype: int64"
      ]
     },
     "execution_count": 6,
     "metadata": {},
     "output_type": "execute_result"
    }
   ],
   "source": [
    "data['type'] = np.where(data['type'] == 'white', 1, 0).astype('int')\n",
    "data['type'].value_counts()"
   ]
  },
  {
   "cell_type": "code",
   "execution_count": 7,
   "id": "5ed021cd",
   "metadata": {},
   "outputs": [
    {
     "data": {
      "text/plain": [
       "6    2416\n",
       "5    1788\n",
       "7     924\n",
       "4     186\n",
       "8     152\n",
       "3      26\n",
       "9       5\n",
       "Name: quality, dtype: int64"
      ]
     },
     "execution_count": 7,
     "metadata": {},
     "output_type": "execute_result"
    }
   ],
   "source": [
    "data['quality'].value_counts()"
   ]
  },
  {
   "cell_type": "code",
   "execution_count": 8,
   "id": "69ba0d77",
   "metadata": {},
   "outputs": [
    {
     "data": {
      "text/plain": [
       "array([[0., 0., 1., ..., 0., 0., 0.],\n",
       "       [0., 0., 1., ..., 0., 0., 0.],\n",
       "       [0., 0., 1., ..., 0., 0., 0.],\n",
       "       ...,\n",
       "       [0., 0., 0., ..., 1., 0., 0.],\n",
       "       [0., 0., 1., ..., 0., 0., 0.],\n",
       "       [0., 0., 0., ..., 0., 0., 0.]], dtype=float32)"
      ]
     },
     "execution_count": 8,
     "metadata": {},
     "output_type": "execute_result"
    }
   ],
   "source": [
    "from tensorflow.keras.utils import to_categorical\n",
    "y_data = to_categorical(data.loc[:, 'quality'] - 3)\n",
    "y_data"
   ]
  },
  {
   "cell_type": "code",
   "execution_count": 9,
   "id": "c6956a0c",
   "metadata": {},
   "outputs": [
    {
     "data": {
      "text/html": [
       "<div>\n",
       "<style scoped>\n",
       "    .dataframe tbody tr th:only-of-type {\n",
       "        vertical-align: middle;\n",
       "    }\n",
       "\n",
       "    .dataframe tbody tr th {\n",
       "        vertical-align: top;\n",
       "    }\n",
       "\n",
       "    .dataframe thead th {\n",
       "        text-align: right;\n",
       "    }\n",
       "</style>\n",
       "<table border=\"1\" class=\"dataframe\">\n",
       "  <thead>\n",
       "    <tr style=\"text-align: right;\">\n",
       "      <th></th>\n",
       "      <th>fixed acidity</th>\n",
       "      <th>volatile acidity</th>\n",
       "      <th>citric acid</th>\n",
       "      <th>residual sugar</th>\n",
       "      <th>chlorides</th>\n",
       "      <th>free sulfur dioxide</th>\n",
       "      <th>total sulfur dioxide</th>\n",
       "      <th>density</th>\n",
       "      <th>pH</th>\n",
       "      <th>sulphates</th>\n",
       "      <th>alcohol</th>\n",
       "      <th>type</th>\n",
       "    </tr>\n",
       "  </thead>\n",
       "  <tbody>\n",
       "    <tr>\n",
       "      <th>0</th>\n",
       "      <td>5.6</td>\n",
       "      <td>0.695</td>\n",
       "      <td>0.06</td>\n",
       "      <td>6.8</td>\n",
       "      <td>0.042</td>\n",
       "      <td>9.0</td>\n",
       "      <td>84.0</td>\n",
       "      <td>0.99432</td>\n",
       "      <td>3.44</td>\n",
       "      <td>0.44</td>\n",
       "      <td>10.2</td>\n",
       "      <td>1</td>\n",
       "    </tr>\n",
       "    <tr>\n",
       "      <th>1</th>\n",
       "      <td>8.8</td>\n",
       "      <td>0.610</td>\n",
       "      <td>0.14</td>\n",
       "      <td>2.4</td>\n",
       "      <td>0.067</td>\n",
       "      <td>10.0</td>\n",
       "      <td>42.0</td>\n",
       "      <td>0.99690</td>\n",
       "      <td>3.19</td>\n",
       "      <td>0.59</td>\n",
       "      <td>9.5</td>\n",
       "      <td>0</td>\n",
       "    </tr>\n",
       "    <tr>\n",
       "      <th>2</th>\n",
       "      <td>7.9</td>\n",
       "      <td>0.210</td>\n",
       "      <td>0.39</td>\n",
       "      <td>2.0</td>\n",
       "      <td>0.057</td>\n",
       "      <td>21.0</td>\n",
       "      <td>138.0</td>\n",
       "      <td>0.99176</td>\n",
       "      <td>3.05</td>\n",
       "      <td>0.52</td>\n",
       "      <td>10.9</td>\n",
       "      <td>1</td>\n",
       "    </tr>\n",
       "    <tr>\n",
       "      <th>3</th>\n",
       "      <td>7.0</td>\n",
       "      <td>0.210</td>\n",
       "      <td>0.31</td>\n",
       "      <td>6.0</td>\n",
       "      <td>0.046</td>\n",
       "      <td>29.0</td>\n",
       "      <td>108.0</td>\n",
       "      <td>0.99390</td>\n",
       "      <td>3.26</td>\n",
       "      <td>0.50</td>\n",
       "      <td>10.8</td>\n",
       "      <td>1</td>\n",
       "    </tr>\n",
       "    <tr>\n",
       "      <th>4</th>\n",
       "      <td>7.8</td>\n",
       "      <td>0.400</td>\n",
       "      <td>0.26</td>\n",
       "      <td>9.5</td>\n",
       "      <td>0.059</td>\n",
       "      <td>32.0</td>\n",
       "      <td>178.0</td>\n",
       "      <td>0.99550</td>\n",
       "      <td>3.04</td>\n",
       "      <td>0.43</td>\n",
       "      <td>10.9</td>\n",
       "      <td>1</td>\n",
       "    </tr>\n",
       "    <tr>\n",
       "      <th>...</th>\n",
       "      <td>...</td>\n",
       "      <td>...</td>\n",
       "      <td>...</td>\n",
       "      <td>...</td>\n",
       "      <td>...</td>\n",
       "      <td>...</td>\n",
       "      <td>...</td>\n",
       "      <td>...</td>\n",
       "      <td>...</td>\n",
       "      <td>...</td>\n",
       "      <td>...</td>\n",
       "      <td>...</td>\n",
       "    </tr>\n",
       "    <tr>\n",
       "      <th>5492</th>\n",
       "      <td>7.7</td>\n",
       "      <td>0.150</td>\n",
       "      <td>0.29</td>\n",
       "      <td>1.3</td>\n",
       "      <td>0.029</td>\n",
       "      <td>10.0</td>\n",
       "      <td>64.0</td>\n",
       "      <td>0.99320</td>\n",
       "      <td>3.35</td>\n",
       "      <td>0.39</td>\n",
       "      <td>10.1</td>\n",
       "      <td>1</td>\n",
       "    </tr>\n",
       "    <tr>\n",
       "      <th>5493</th>\n",
       "      <td>6.3</td>\n",
       "      <td>0.180</td>\n",
       "      <td>0.36</td>\n",
       "      <td>1.2</td>\n",
       "      <td>0.034</td>\n",
       "      <td>26.0</td>\n",
       "      <td>111.0</td>\n",
       "      <td>0.99074</td>\n",
       "      <td>3.16</td>\n",
       "      <td>0.51</td>\n",
       "      <td>11.0</td>\n",
       "      <td>1</td>\n",
       "    </tr>\n",
       "    <tr>\n",
       "      <th>5494</th>\n",
       "      <td>7.8</td>\n",
       "      <td>0.150</td>\n",
       "      <td>0.34</td>\n",
       "      <td>1.1</td>\n",
       "      <td>0.035</td>\n",
       "      <td>31.0</td>\n",
       "      <td>93.0</td>\n",
       "      <td>0.99096</td>\n",
       "      <td>3.07</td>\n",
       "      <td>0.72</td>\n",
       "      <td>11.3</td>\n",
       "      <td>1</td>\n",
       "    </tr>\n",
       "    <tr>\n",
       "      <th>5495</th>\n",
       "      <td>6.6</td>\n",
       "      <td>0.410</td>\n",
       "      <td>0.31</td>\n",
       "      <td>1.6</td>\n",
       "      <td>0.042</td>\n",
       "      <td>18.0</td>\n",
       "      <td>101.0</td>\n",
       "      <td>0.99195</td>\n",
       "      <td>3.13</td>\n",
       "      <td>0.41</td>\n",
       "      <td>10.5</td>\n",
       "      <td>1</td>\n",
       "    </tr>\n",
       "    <tr>\n",
       "      <th>5496</th>\n",
       "      <td>7.0</td>\n",
       "      <td>0.350</td>\n",
       "      <td>0.17</td>\n",
       "      <td>1.1</td>\n",
       "      <td>0.049</td>\n",
       "      <td>7.0</td>\n",
       "      <td>119.0</td>\n",
       "      <td>0.99297</td>\n",
       "      <td>3.13</td>\n",
       "      <td>0.36</td>\n",
       "      <td>9.7</td>\n",
       "      <td>1</td>\n",
       "    </tr>\n",
       "  </tbody>\n",
       "</table>\n",
       "<p>5497 rows × 12 columns</p>\n",
       "</div>"
      ],
      "text/plain": [
       "      fixed acidity  volatile acidity  citric acid  residual sugar  chlorides  \\\n",
       "0               5.6             0.695         0.06             6.8      0.042   \n",
       "1               8.8             0.610         0.14             2.4      0.067   \n",
       "2               7.9             0.210         0.39             2.0      0.057   \n",
       "3               7.0             0.210         0.31             6.0      0.046   \n",
       "4               7.8             0.400         0.26             9.5      0.059   \n",
       "...             ...               ...          ...             ...        ...   \n",
       "5492            7.7             0.150         0.29             1.3      0.029   \n",
       "5493            6.3             0.180         0.36             1.2      0.034   \n",
       "5494            7.8             0.150         0.34             1.1      0.035   \n",
       "5495            6.6             0.410         0.31             1.6      0.042   \n",
       "5496            7.0             0.350         0.17             1.1      0.049   \n",
       "\n",
       "      free sulfur dioxide  total sulfur dioxide  density    pH  sulphates  \\\n",
       "0                     9.0                  84.0  0.99432  3.44       0.44   \n",
       "1                    10.0                  42.0  0.99690  3.19       0.59   \n",
       "2                    21.0                 138.0  0.99176  3.05       0.52   \n",
       "3                    29.0                 108.0  0.99390  3.26       0.50   \n",
       "4                    32.0                 178.0  0.99550  3.04       0.43   \n",
       "...                   ...                   ...      ...   ...        ...   \n",
       "5492                 10.0                  64.0  0.99320  3.35       0.39   \n",
       "5493                 26.0                 111.0  0.99074  3.16       0.51   \n",
       "5494                 31.0                  93.0  0.99096  3.07       0.72   \n",
       "5495                 18.0                 101.0  0.99195  3.13       0.41   \n",
       "5496                  7.0                 119.0  0.99297  3.13       0.36   \n",
       "\n",
       "      alcohol  type  \n",
       "0        10.2     1  \n",
       "1         9.5     0  \n",
       "2        10.9     1  \n",
       "3        10.8     1  \n",
       "4        10.9     1  \n",
       "...       ...   ...  \n",
       "5492     10.1     1  \n",
       "5493     11.0     1  \n",
       "5494     11.3     1  \n",
       "5495     10.5     1  \n",
       "5496      9.7     1  \n",
       "\n",
       "[5497 rows x 12 columns]"
      ]
     },
     "execution_count": 9,
     "metadata": {},
     "output_type": "execute_result"
    }
   ],
   "source": [
    "X_data = data.loc[:, 'fixed acidity':]\n",
    "X_data"
   ]
  },
  {
   "cell_type": "code",
   "execution_count": 10,
   "id": "cce4f490",
   "metadata": {},
   "outputs": [
    {
     "data": {
      "text/plain": [
       "(5497, 12)"
      ]
     },
     "execution_count": 10,
     "metadata": {},
     "output_type": "execute_result"
    }
   ],
   "source": [
    "X_data.shape"
   ]
  },
  {
   "cell_type": "code",
   "execution_count": 11,
   "id": "65dc0ed4",
   "metadata": {},
   "outputs": [],
   "source": [
    "# min_max스케일링\n",
    "# 피처 스케일링\n",
    "from sklearn.preprocessing import MinMaxScaler\n",
    "scaler=MinMaxScaler()\n",
    "scaler.fit(X_data)\n",
    "X_data_scaled = scaler.fit_transform(X_data)"
   ]
  },
  {
   "cell_type": "code",
   "execution_count": 12,
   "id": "5c8aafaf",
   "metadata": {},
   "outputs": [
    {
     "name": "stdout",
     "output_type": "stream",
     "text": [
      "(5497, 12) (5497, 7)\n"
     ]
    }
   ],
   "source": [
    "print(X_data_scaled.shape, y_data.shape)"
   ]
  },
  {
   "cell_type": "code",
   "execution_count": 13,
   "id": "32e2559f",
   "metadata": {},
   "outputs": [
    {
     "name": "stdout",
     "output_type": "stream",
     "text": [
      "(4397, 12) (4397, 7)\n",
      "(1100, 12) (1100, 7)\n"
     ]
    }
   ],
   "source": [
    "# train/test data분리\n",
    "from sklearn.model_selection import train_test_split\n",
    "X_train, X_test, y_train, y_test = train_test_split(X_data_scaled, y_data, \n",
    "                                                    test_size=0.2, \n",
    "                                                    shuffle=True, \n",
    "                                                    random_state=100)\n",
    "print(X_train.shape, y_train.shape)\n",
    "print(X_test.shape, y_test.shape)"
   ]
  },
  {
   "cell_type": "code",
   "execution_count": 14,
   "id": "44e37eea",
   "metadata": {},
   "outputs": [
    {
     "data": {
      "text/plain": [
       "7"
      ]
     },
     "execution_count": 14,
     "metadata": {},
     "output_type": "execute_result"
    }
   ],
   "source": [
    "y_train.shape[1]"
   ]
  },
  {
   "cell_type": "code",
   "execution_count": 15,
   "id": "93ce9830",
   "metadata": {
    "scrolled": true
   },
   "outputs": [
    {
     "name": "stdout",
     "output_type": "stream",
     "text": [
      "Model: \"sequential\"\n",
      "_________________________________________________________________\n",
      " Layer (type)                Output Shape              Param #   \n",
      "=================================================================\n",
      " dense (Dense)               (None, 128)               1664      \n",
      "                                                                 \n",
      " dense_1 (Dense)             (None, 64)                8256      \n",
      "                                                                 \n",
      " dense_2 (Dense)             (None, 32)                2080      \n",
      "                                                                 \n",
      " dense_3 (Dense)             (None, 10)                330       \n",
      "                                                                 \n",
      " dense_4 (Dense)             (None, 7)                 77        \n",
      "                                                                 \n",
      "=================================================================\n",
      "Total params: 12,407\n",
      "Trainable params: 12,407\n",
      "Non-trainable params: 0\n",
      "_________________________________________________________________\n"
     ]
    }
   ],
   "source": [
    "# 모델생성\n",
    "# 심층 신경망 모델\n",
    "from tensorflow.keras import Sequential\n",
    "from tensorflow.keras.layers import Dense, Dropout\n",
    "def build_model(train_data, train_target):\n",
    "    model = Sequential()\n",
    "    model.add(Dense(128, activation='relu', input_dim=X_train.shape[1]))\n",
    "   # model.add(Dropout(0.2))\n",
    "    model.add(Dense(64, activation='relu'))\n",
    "    # model.add(Dropout(0.1))\n",
    "    model.add(Dense(32, activation='relu'))\n",
    "    model.add(Dense(10, activation='relu'))\n",
    "    model.add(Dense(y_train.shape[1], activation='softmax'))\n",
    "\n",
    "    adam = tf.keras.optimizers.Adam(lr=0.001, \n",
    "                                    beta_1=0.9, \n",
    "                                    beta_2=0.999, \n",
    "                                    epsilon=None, \n",
    "                                    decay=0.0, \n",
    "                                    amsgrad=False)\n",
    "#     model.compile(optimizer='adam', loss='categorical_crossentropy', \n",
    "#                 metrics=['acc', 'mae'])\n",
    "    \n",
    "    model.compile(optimizer= adam, loss='categorical_crossentropy', \n",
    "                metrics=['acc', 'mae'])\n",
    "    \n",
    "    return model\n",
    "model = build_model(X_train, y_train)\n",
    "model.summary()"
   ]
  },
  {
   "cell_type": "code",
   "execution_count": 16,
   "id": "6836ba64",
   "metadata": {},
   "outputs": [
    {
     "name": "stdout",
     "output_type": "stream",
     "text": [
      "Epoch 1/200\n",
      "330/330 - 1s - loss: 1.3165 - acc: 0.4658 - mae: 0.1904 - val_loss: 1.2024 - val_acc: 0.5295 - val_mae: 0.1752 - 695ms/epoch - 2ms/step\n",
      "Epoch 2/200\n",
      "330/330 - 0s - loss: 1.1523 - acc: 0.5241 - mae: 0.1727 - val_loss: 1.2161 - val_acc: 0.5227 - val_mae: 0.1719 - 245ms/epoch - 743us/step\n",
      "Epoch 3/200\n",
      "330/330 - 0s - loss: 1.1299 - acc: 0.5297 - mae: 0.1705 - val_loss: 1.1765 - val_acc: 0.5250 - val_mae: 0.1735 - 264ms/epoch - 800us/step\n",
      "Epoch 4/200\n",
      "330/330 - 0s - loss: 1.1168 - acc: 0.5426 - mae: 0.1693 - val_loss: 1.1664 - val_acc: 0.5318 - val_mae: 0.1734 - 244ms/epoch - 739us/step\n",
      "Epoch 5/200\n",
      "330/330 - 0s - loss: 1.1109 - acc: 0.5327 - mae: 0.1690 - val_loss: 1.1662 - val_acc: 0.5205 - val_mae: 0.1732 - 236ms/epoch - 714us/step\n",
      "Epoch 6/200\n",
      "330/330 - 0s - loss: 1.0932 - acc: 0.5464 - mae: 0.1679 - val_loss: 1.1400 - val_acc: 0.5273 - val_mae: 0.1710 - 253ms/epoch - 767us/step\n",
      "Epoch 7/200\n",
      "330/330 - 0s - loss: 1.0863 - acc: 0.5360 - mae: 0.1676 - val_loss: 1.1244 - val_acc: 0.5591 - val_mae: 0.1693 - 242ms/epoch - 733us/step\n",
      "Epoch 8/200\n",
      "330/330 - 0s - loss: 1.0794 - acc: 0.5474 - mae: 0.1669 - val_loss: 1.1497 - val_acc: 0.5341 - val_mae: 0.1657 - 240ms/epoch - 726us/step\n",
      "Epoch 9/200\n",
      "330/330 - 0s - loss: 1.0662 - acc: 0.5512 - mae: 0.1654 - val_loss: 1.1157 - val_acc: 0.5477 - val_mae: 0.1706 - 241ms/epoch - 730us/step\n",
      "Epoch 10/200\n",
      "330/330 - 0s - loss: 1.0638 - acc: 0.5504 - mae: 0.1656 - val_loss: 1.1170 - val_acc: 0.5591 - val_mae: 0.1695 - 253ms/epoch - 767us/step\n",
      "Epoch 11/200\n",
      "330/330 - 0s - loss: 1.0551 - acc: 0.5613 - mae: 0.1648 - val_loss: 1.1093 - val_acc: 0.5295 - val_mae: 0.1657 - 257ms/epoch - 779us/step\n",
      "Epoch 12/200\n",
      "330/330 - 0s - loss: 1.0509 - acc: 0.5542 - mae: 0.1641 - val_loss: 1.1066 - val_acc: 0.5295 - val_mae: 0.1626 - 237ms/epoch - 717us/step\n",
      "Epoch 13/200\n",
      "330/330 - 0s - loss: 1.0442 - acc: 0.5595 - mae: 0.1634 - val_loss: 1.1120 - val_acc: 0.5205 - val_mae: 0.1691 - 244ms/epoch - 741us/step\n",
      "Epoch 14/200\n",
      "330/330 - 0s - loss: 1.0437 - acc: 0.5570 - mae: 0.1631 - val_loss: 1.0855 - val_acc: 0.5295 - val_mae: 0.1695 - 238ms/epoch - 721us/step\n",
      "Epoch 15/200\n",
      "330/330 - 0s - loss: 1.0361 - acc: 0.5608 - mae: 0.1631 - val_loss: 1.0821 - val_acc: 0.5523 - val_mae: 0.1644 - 242ms/epoch - 733us/step\n",
      "Epoch 16/200\n",
      "330/330 - 0s - loss: 1.0298 - acc: 0.5653 - mae: 0.1621 - val_loss: 1.0710 - val_acc: 0.5318 - val_mae: 0.1623 - 247ms/epoch - 749us/step\n",
      "Epoch 17/200\n",
      "330/330 - 0s - loss: 1.0278 - acc: 0.5590 - mae: 0.1619 - val_loss: 1.0652 - val_acc: 0.5364 - val_mae: 0.1643 - 234ms/epoch - 709us/step\n",
      "Epoch 18/200\n",
      "330/330 - 0s - loss: 1.0237 - acc: 0.5613 - mae: 0.1618 - val_loss: 1.0926 - val_acc: 0.5182 - val_mae: 0.1645 - 246ms/epoch - 744us/step\n",
      "Epoch 19/200\n",
      "330/330 - 0s - loss: 1.0199 - acc: 0.5633 - mae: 0.1611 - val_loss: 1.0893 - val_acc: 0.5591 - val_mae: 0.1604 - 241ms/epoch - 729us/step\n",
      "Epoch 20/200\n",
      "330/330 - 0s - loss: 1.0181 - acc: 0.5618 - mae: 0.1611 - val_loss: 1.0687 - val_acc: 0.5636 - val_mae: 0.1605 - 242ms/epoch - 732us/step\n",
      "Epoch 21/200\n",
      "330/330 - 0s - loss: 1.0119 - acc: 0.5636 - mae: 0.1607 - val_loss: 1.1017 - val_acc: 0.5318 - val_mae: 0.1593 - 241ms/epoch - 730us/step\n"
     ]
    }
   ],
   "source": [
    "# fit시켜보자\n",
    "# from tensorflow.keras.callbacks import EarlyStopping\n",
    "\n",
    "# early_stopping = EarlyStopping(monitor='acc',  patience=5)\n",
    "\n",
    "# X_tr, X_val, y_tr, y_val = train_test_split(X_train, y_train, test_size=0.1, \n",
    "#                                             shuffle=True, random_state=200)\n",
    "\n",
    "# history = model.fit(X_tr, y_tr, \n",
    "#                     batch_size=12, \n",
    "#                     epochs=200,\n",
    "#                     validation_data=(X_val, y_val),\n",
    "#                     callbacks=[early_stopping],                    \n",
    "#                     verbose=2)"
   ]
  },
  {
   "cell_type": "code",
   "execution_count": 17,
   "id": "02ad9c33",
   "metadata": {},
   "outputs": [
    {
     "name": "stdout",
     "output_type": "stream",
     "text": [
      "14/14 [==============================] - 0s 1ms/step - loss: 1.1017 - acc: 0.5318 - mae: 0.1593\n",
      "loss>>  1.1017383337020874\n",
      "acc>>  0.5318182110786438\n"
     ]
    }
   ],
   "source": [
    "# test데이터로 예측하여 정확도 체크해볼 것.\n",
    "loss, acc, _ = model.evaluate(X_val, y_val)\n",
    "print('loss>> ', loss)\n",
    "print('acc>> ', acc)"
   ]
  },
  {
   "cell_type": "code",
   "execution_count": 18,
   "id": "0ce0b19c",
   "metadata": {},
   "outputs": [
    {
     "data": {
      "text/plain": [
       "array([[3.9908962e-04, 1.7439916e-03, 2.2113238e-02, 4.4795895e-01,\n",
       "        4.6489593e-01, 6.2681712e-02, 2.0717790e-04],\n",
       "       [5.3232320e-04, 2.8902534e-03, 6.0239252e-02, 6.1683446e-01,\n",
       "        2.7107009e-01, 4.8269745e-02, 1.6388914e-04],\n",
       "       [1.3265494e-03, 9.4166556e-03, 1.1224672e-01, 6.1695427e-01,\n",
       "        2.3096366e-01, 2.8906524e-02, 1.8567046e-04],\n",
       "       [8.5712934e-04, 6.7214039e-03, 1.1710508e-01, 6.2170535e-01,\n",
       "        2.1984883e-01, 3.3434939e-02, 3.2735476e-04],\n",
       "       [7.9604232e-04, 1.1616648e-02, 5.9126616e-01, 3.7732700e-01,\n",
       "        1.8006152e-02, 9.8795316e-04, 9.1759219e-08]], dtype=float32)"
      ]
     },
     "execution_count": 18,
     "metadata": {},
     "output_type": "execute_result"
    }
   ],
   "source": [
    "# test 데이터에 대한 예측값 정리\n",
    "y_pred_proba = model.predict(X_test)\n",
    "y_pred_proba[:5]"
   ]
  },
  {
   "cell_type": "code",
   "execution_count": 19,
   "id": "44ffa733",
   "metadata": {},
   "outputs": [
    {
     "data": {
      "text/plain": [
       "array([7, 6, 6, 6, 5], dtype=int64)"
      ]
     },
     "execution_count": 19,
     "metadata": {},
     "output_type": "execute_result"
    }
   ],
   "source": [
    "y_pred_label = np.argmax(y_pred_proba, axis=-1) + 3\n",
    "y_pred_label[:5]"
   ]
  },
  {
   "cell_type": "code",
   "execution_count": 20,
   "id": "477714c5",
   "metadata": {},
   "outputs": [
    {
     "data": {
      "text/plain": [
       "(1100,)"
      ]
     },
     "execution_count": 20,
     "metadata": {},
     "output_type": "execute_result"
    }
   ],
   "source": [
    "y_pred_label.shape"
   ]
  },
  {
   "cell_type": "code",
   "execution_count": 21,
   "id": "26ab6664",
   "metadata": {},
   "outputs": [
    {
     "data": {
      "text/plain": [
       "(1100, 7)"
      ]
     },
     "execution_count": 21,
     "metadata": {},
     "output_type": "execute_result"
    }
   ],
   "source": [
    "y_test.shape"
   ]
  },
  {
   "cell_type": "code",
   "execution_count": 22,
   "id": "e6a65dd0",
   "metadata": {},
   "outputs": [
    {
     "data": {
      "text/plain": [
       "array([8, 5, 5, ..., 6, 7, 8], dtype=int64)"
      ]
     },
     "execution_count": 22,
     "metadata": {},
     "output_type": "execute_result"
    }
   ],
   "source": [
    "y_test2 = np.argmax(y_test, axis=-1) + 3\n",
    "y_test2"
   ]
  },
  {
   "cell_type": "code",
   "execution_count": 23,
   "id": "2b8e4837",
   "metadata": {},
   "outputs": [
    {
     "name": "stdout",
     "output_type": "stream",
     "text": [
      "0.5554545454545454\n"
     ]
    }
   ],
   "source": [
    "from sklearn.metrics import accuracy_score, precision_score, recall_score, confusion_matrix\n",
    "\n",
    "print(accuracy_score(y_test2, y_pred_label))"
   ]
  }
 ],
 "metadata": {
  "kernelspec": {
   "display_name": "Python 3",
   "language": "python",
   "name": "python3"
  },
  "language_info": {
   "codemirror_mode": {
    "name": "ipython",
    "version": 3
   },
   "file_extension": ".py",
   "mimetype": "text/x-python",
   "name": "python",
   "nbconvert_exporter": "python",
   "pygments_lexer": "ipython3",
   "version": "3.8.8"
  }
 },
 "nbformat": 4,
 "nbformat_minor": 5
}
